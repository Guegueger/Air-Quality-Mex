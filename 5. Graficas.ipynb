{
 "cells": [
  {
   "cell_type": "code",
   "execution_count": 2,
   "metadata": {},
   "outputs": [
    {
     "name": "stderr",
     "output_type": "stream",
     "text": [
      "c:\\Users\\hgera\\anaconda3\\Lib\\site-packages\\pandas\\core\\arrays\\masked.py:60: UserWarning: Pandas requires version '1.3.6' or newer of 'bottleneck' (version '1.3.5' currently installed).\n",
      "  from pandas.core import (\n"
     ]
    }
   ],
   "source": [
    "from modules.corr_graficas import *"
   ]
  },
  {
   "cell_type": "code",
   "execution_count": 6,
   "metadata": {},
   "outputs": [
    {
     "name": "stderr",
     "output_type": "stream",
     "text": [
      "c:\\Users\\hgera\\OneDrive\\Escritorio\\GITHUB\\Air-Quality-Mex\\modules\\corr_graficas.py:76: FutureWarning:\n",
      "\n",
      "'M' is deprecated and will be removed in a future version, please use 'ME' instead.\n",
      "\n"
     ]
    },
    {
     "data": {
      "application/vnd.plotly.v1+json": {
       "config": {
        "plotlyServerURL": "https://plot.ly"
       },
       "data": [
        {
         "hovertemplate": "Millones de Barriles=%{x}<br>Concentración=%{y}<br>Mes=%{text}<extra></extra>",
         "legendgroup": "",
         "marker": {
          "color": "red",
          "size": 10,
          "symbol": "circle"
         },
         "mode": "markers+text",
         "name": "",
         "orientation": "v",
         "showlegend": false,
         "text": [
          "2023-01",
          "2023-02",
          "2023-03",
          "2023-04",
          "2023-05",
          "2023-06",
          "2023-07",
          "2023-08",
          "2023-09",
          "2023-10",
          "2023-11",
          "2023-12",
          "2024-01",
          "2024-02",
          "2024-03",
          "2024-04",
          "2024-05",
          "2024-06",
          "2024-07",
          "2024-08",
          "2024-09",
          "2024-10",
          "2024-11",
          "2024-12"
         ],
         "textfont": {
          "size": 8
         },
         "textposition": "top center",
         "type": "scatter",
         "x": [
          null,
          null,
          null,
          null,
          null,
          null,
          null,
          87,
          94,
          121,
          147,
          156,
          169,
          165,
          160,
          150,
          null,
          null,
          null,
          null,
          null,
          null,
          null,
          null
         ],
         "xaxis": "x",
         "y": [
          null,
          null,
          null,
          null,
          null,
          null,
          null,
          0.025,
          0.029,
          0.036,
          0.038,
          0.042,
          0.039,
          0.045,
          0.034,
          0.026,
          null,
          null,
          null,
          null,
          null,
          null,
          null,
          null
         ],
         "yaxis": "y"
        },
        {
         "line": {
          "color": "blue"
         },
         "marker": {
          "color": "red",
          "size": 10
         },
         "mode": "lines",
         "name": "Recta de Regresión",
         "textfont": {
          "size": 8
         },
         "textposition": "top center",
         "type": "scatter",
         "x": [
          null,
          null,
          null,
          null,
          null,
          null,
          null,
          87,
          94,
          121,
          147,
          156,
          169,
          165,
          160,
          150,
          null,
          null,
          null,
          null,
          null,
          null,
          null,
          null
         ],
         "y": [
          null,
          null,
          null,
          null,
          null,
          null,
          null,
          0.02682539916337713,
          0.027915527602663057,
          0.03212030872562305,
          0.036169357214399345,
          0.037570950922052676,
          0.039595475166440824,
          0.03897254462970601,
          0.03819388145878749,
          0.03663655511695045,
          null,
          null,
          null,
          null,
          null,
          null,
          null,
          null
         ]
        }
       ],
       "layout": {
        "legend": {
         "tracegroupgap": 0
        },
        "template": {
         "data": {
          "bar": [
           {
            "error_x": {
             "color": "#2a3f5f"
            },
            "error_y": {
             "color": "#2a3f5f"
            },
            "marker": {
             "line": {
              "color": "#E5ECF6",
              "width": 0.5
             },
             "pattern": {
              "fillmode": "overlay",
              "size": 10,
              "solidity": 0.2
             }
            },
            "type": "bar"
           }
          ],
          "barpolar": [
           {
            "marker": {
             "line": {
              "color": "#E5ECF6",
              "width": 0.5
             },
             "pattern": {
              "fillmode": "overlay",
              "size": 10,
              "solidity": 0.2
             }
            },
            "type": "barpolar"
           }
          ],
          "carpet": [
           {
            "aaxis": {
             "endlinecolor": "#2a3f5f",
             "gridcolor": "white",
             "linecolor": "white",
             "minorgridcolor": "white",
             "startlinecolor": "#2a3f5f"
            },
            "baxis": {
             "endlinecolor": "#2a3f5f",
             "gridcolor": "white",
             "linecolor": "white",
             "minorgridcolor": "white",
             "startlinecolor": "#2a3f5f"
            },
            "type": "carpet"
           }
          ],
          "choropleth": [
           {
            "colorbar": {
             "outlinewidth": 0,
             "ticks": ""
            },
            "type": "choropleth"
           }
          ],
          "contour": [
           {
            "colorbar": {
             "outlinewidth": 0,
             "ticks": ""
            },
            "colorscale": [
             [
              0,
              "#0d0887"
             ],
             [
              0.1111111111111111,
              "#46039f"
             ],
             [
              0.2222222222222222,
              "#7201a8"
             ],
             [
              0.3333333333333333,
              "#9c179e"
             ],
             [
              0.4444444444444444,
              "#bd3786"
             ],
             [
              0.5555555555555556,
              "#d8576b"
             ],
             [
              0.6666666666666666,
              "#ed7953"
             ],
             [
              0.7777777777777778,
              "#fb9f3a"
             ],
             [
              0.8888888888888888,
              "#fdca26"
             ],
             [
              1,
              "#f0f921"
             ]
            ],
            "type": "contour"
           }
          ],
          "contourcarpet": [
           {
            "colorbar": {
             "outlinewidth": 0,
             "ticks": ""
            },
            "type": "contourcarpet"
           }
          ],
          "heatmap": [
           {
            "colorbar": {
             "outlinewidth": 0,
             "ticks": ""
            },
            "colorscale": [
             [
              0,
              "#0d0887"
             ],
             [
              0.1111111111111111,
              "#46039f"
             ],
             [
              0.2222222222222222,
              "#7201a8"
             ],
             [
              0.3333333333333333,
              "#9c179e"
             ],
             [
              0.4444444444444444,
              "#bd3786"
             ],
             [
              0.5555555555555556,
              "#d8576b"
             ],
             [
              0.6666666666666666,
              "#ed7953"
             ],
             [
              0.7777777777777778,
              "#fb9f3a"
             ],
             [
              0.8888888888888888,
              "#fdca26"
             ],
             [
              1,
              "#f0f921"
             ]
            ],
            "type": "heatmap"
           }
          ],
          "heatmapgl": [
           {
            "colorbar": {
             "outlinewidth": 0,
             "ticks": ""
            },
            "colorscale": [
             [
              0,
              "#0d0887"
             ],
             [
              0.1111111111111111,
              "#46039f"
             ],
             [
              0.2222222222222222,
              "#7201a8"
             ],
             [
              0.3333333333333333,
              "#9c179e"
             ],
             [
              0.4444444444444444,
              "#bd3786"
             ],
             [
              0.5555555555555556,
              "#d8576b"
             ],
             [
              0.6666666666666666,
              "#ed7953"
             ],
             [
              0.7777777777777778,
              "#fb9f3a"
             ],
             [
              0.8888888888888888,
              "#fdca26"
             ],
             [
              1,
              "#f0f921"
             ]
            ],
            "type": "heatmapgl"
           }
          ],
          "histogram": [
           {
            "marker": {
             "pattern": {
              "fillmode": "overlay",
              "size": 10,
              "solidity": 0.2
             }
            },
            "type": "histogram"
           }
          ],
          "histogram2d": [
           {
            "colorbar": {
             "outlinewidth": 0,
             "ticks": ""
            },
            "colorscale": [
             [
              0,
              "#0d0887"
             ],
             [
              0.1111111111111111,
              "#46039f"
             ],
             [
              0.2222222222222222,
              "#7201a8"
             ],
             [
              0.3333333333333333,
              "#9c179e"
             ],
             [
              0.4444444444444444,
              "#bd3786"
             ],
             [
              0.5555555555555556,
              "#d8576b"
             ],
             [
              0.6666666666666666,
              "#ed7953"
             ],
             [
              0.7777777777777778,
              "#fb9f3a"
             ],
             [
              0.8888888888888888,
              "#fdca26"
             ],
             [
              1,
              "#f0f921"
             ]
            ],
            "type": "histogram2d"
           }
          ],
          "histogram2dcontour": [
           {
            "colorbar": {
             "outlinewidth": 0,
             "ticks": ""
            },
            "colorscale": [
             [
              0,
              "#0d0887"
             ],
             [
              0.1111111111111111,
              "#46039f"
             ],
             [
              0.2222222222222222,
              "#7201a8"
             ],
             [
              0.3333333333333333,
              "#9c179e"
             ],
             [
              0.4444444444444444,
              "#bd3786"
             ],
             [
              0.5555555555555556,
              "#d8576b"
             ],
             [
              0.6666666666666666,
              "#ed7953"
             ],
             [
              0.7777777777777778,
              "#fb9f3a"
             ],
             [
              0.8888888888888888,
              "#fdca26"
             ],
             [
              1,
              "#f0f921"
             ]
            ],
            "type": "histogram2dcontour"
           }
          ],
          "mesh3d": [
           {
            "colorbar": {
             "outlinewidth": 0,
             "ticks": ""
            },
            "type": "mesh3d"
           }
          ],
          "parcoords": [
           {
            "line": {
             "colorbar": {
              "outlinewidth": 0,
              "ticks": ""
             }
            },
            "type": "parcoords"
           }
          ],
          "pie": [
           {
            "automargin": true,
            "type": "pie"
           }
          ],
          "scatter": [
           {
            "fillpattern": {
             "fillmode": "overlay",
             "size": 10,
             "solidity": 0.2
            },
            "type": "scatter"
           }
          ],
          "scatter3d": [
           {
            "line": {
             "colorbar": {
              "outlinewidth": 0,
              "ticks": ""
             }
            },
            "marker": {
             "colorbar": {
              "outlinewidth": 0,
              "ticks": ""
             }
            },
            "type": "scatter3d"
           }
          ],
          "scattercarpet": [
           {
            "marker": {
             "colorbar": {
              "outlinewidth": 0,
              "ticks": ""
             }
            },
            "type": "scattercarpet"
           }
          ],
          "scattergeo": [
           {
            "marker": {
             "colorbar": {
              "outlinewidth": 0,
              "ticks": ""
             }
            },
            "type": "scattergeo"
           }
          ],
          "scattergl": [
           {
            "marker": {
             "colorbar": {
              "outlinewidth": 0,
              "ticks": ""
             }
            },
            "type": "scattergl"
           }
          ],
          "scattermapbox": [
           {
            "marker": {
             "colorbar": {
              "outlinewidth": 0,
              "ticks": ""
             }
            },
            "type": "scattermapbox"
           }
          ],
          "scatterpolar": [
           {
            "marker": {
             "colorbar": {
              "outlinewidth": 0,
              "ticks": ""
             }
            },
            "type": "scatterpolar"
           }
          ],
          "scatterpolargl": [
           {
            "marker": {
             "colorbar": {
              "outlinewidth": 0,
              "ticks": ""
             }
            },
            "type": "scatterpolargl"
           }
          ],
          "scatterternary": [
           {
            "marker": {
             "colorbar": {
              "outlinewidth": 0,
              "ticks": ""
             }
            },
            "type": "scatterternary"
           }
          ],
          "surface": [
           {
            "colorbar": {
             "outlinewidth": 0,
             "ticks": ""
            },
            "colorscale": [
             [
              0,
              "#0d0887"
             ],
             [
              0.1111111111111111,
              "#46039f"
             ],
             [
              0.2222222222222222,
              "#7201a8"
             ],
             [
              0.3333333333333333,
              "#9c179e"
             ],
             [
              0.4444444444444444,
              "#bd3786"
             ],
             [
              0.5555555555555556,
              "#d8576b"
             ],
             [
              0.6666666666666666,
              "#ed7953"
             ],
             [
              0.7777777777777778,
              "#fb9f3a"
             ],
             [
              0.8888888888888888,
              "#fdca26"
             ],
             [
              1,
              "#f0f921"
             ]
            ],
            "type": "surface"
           }
          ],
          "table": [
           {
            "cells": {
             "fill": {
              "color": "#EBF0F8"
             },
             "line": {
              "color": "white"
             }
            },
            "header": {
             "fill": {
              "color": "#C8D4E3"
             },
             "line": {
              "color": "white"
             }
            },
            "type": "table"
           }
          ]
         },
         "layout": {
          "annotationdefaults": {
           "arrowcolor": "#2a3f5f",
           "arrowhead": 0,
           "arrowwidth": 1
          },
          "autotypenumbers": "strict",
          "coloraxis": {
           "colorbar": {
            "outlinewidth": 0,
            "ticks": ""
           }
          },
          "colorscale": {
           "diverging": [
            [
             0,
             "#8e0152"
            ],
            [
             0.1,
             "#c51b7d"
            ],
            [
             0.2,
             "#de77ae"
            ],
            [
             0.3,
             "#f1b6da"
            ],
            [
             0.4,
             "#fde0ef"
            ],
            [
             0.5,
             "#f7f7f7"
            ],
            [
             0.6,
             "#e6f5d0"
            ],
            [
             0.7,
             "#b8e186"
            ],
            [
             0.8,
             "#7fbc41"
            ],
            [
             0.9,
             "#4d9221"
            ],
            [
             1,
             "#276419"
            ]
           ],
           "sequential": [
            [
             0,
             "#0d0887"
            ],
            [
             0.1111111111111111,
             "#46039f"
            ],
            [
             0.2222222222222222,
             "#7201a8"
            ],
            [
             0.3333333333333333,
             "#9c179e"
            ],
            [
             0.4444444444444444,
             "#bd3786"
            ],
            [
             0.5555555555555556,
             "#d8576b"
            ],
            [
             0.6666666666666666,
             "#ed7953"
            ],
            [
             0.7777777777777778,
             "#fb9f3a"
            ],
            [
             0.8888888888888888,
             "#fdca26"
            ],
            [
             1,
             "#f0f921"
            ]
           ],
           "sequentialminus": [
            [
             0,
             "#0d0887"
            ],
            [
             0.1111111111111111,
             "#46039f"
            ],
            [
             0.2222222222222222,
             "#7201a8"
            ],
            [
             0.3333333333333333,
             "#9c179e"
            ],
            [
             0.4444444444444444,
             "#bd3786"
            ],
            [
             0.5555555555555556,
             "#d8576b"
            ],
            [
             0.6666666666666666,
             "#ed7953"
            ],
            [
             0.7777777777777778,
             "#fb9f3a"
            ],
            [
             0.8888888888888888,
             "#fdca26"
            ],
            [
             1,
             "#f0f921"
            ]
           ]
          },
          "colorway": [
           "#636efa",
           "#EF553B",
           "#00cc96",
           "#ab63fa",
           "#FFA15A",
           "#19d3f3",
           "#FF6692",
           "#B6E880",
           "#FF97FF",
           "#FECB52"
          ],
          "font": {
           "color": "#2a3f5f"
          },
          "geo": {
           "bgcolor": "white",
           "lakecolor": "white",
           "landcolor": "#E5ECF6",
           "showlakes": true,
           "showland": true,
           "subunitcolor": "white"
          },
          "hoverlabel": {
           "align": "left"
          },
          "hovermode": "closest",
          "mapbox": {
           "style": "light"
          },
          "paper_bgcolor": "white",
          "plot_bgcolor": "#E5ECF6",
          "polar": {
           "angularaxis": {
            "gridcolor": "white",
            "linecolor": "white",
            "ticks": ""
           },
           "bgcolor": "#E5ECF6",
           "radialaxis": {
            "gridcolor": "white",
            "linecolor": "white",
            "ticks": ""
           }
          },
          "scene": {
           "xaxis": {
            "backgroundcolor": "#E5ECF6",
            "gridcolor": "white",
            "gridwidth": 2,
            "linecolor": "white",
            "showbackground": true,
            "ticks": "",
            "zerolinecolor": "white"
           },
           "yaxis": {
            "backgroundcolor": "#E5ECF6",
            "gridcolor": "white",
            "gridwidth": 2,
            "linecolor": "white",
            "showbackground": true,
            "ticks": "",
            "zerolinecolor": "white"
           },
           "zaxis": {
            "backgroundcolor": "#E5ECF6",
            "gridcolor": "white",
            "gridwidth": 2,
            "linecolor": "white",
            "showbackground": true,
            "ticks": "",
            "zerolinecolor": "white"
           }
          },
          "shapedefaults": {
           "line": {
            "color": "#2a3f5f"
           }
          },
          "ternary": {
           "aaxis": {
            "gridcolor": "white",
            "linecolor": "white",
            "ticks": ""
           },
           "baxis": {
            "gridcolor": "white",
            "linecolor": "white",
            "ticks": ""
           },
           "bgcolor": "#E5ECF6",
           "caxis": {
            "gridcolor": "white",
            "linecolor": "white",
            "ticks": ""
           }
          },
          "title": {
           "x": 0.05
          },
          "xaxis": {
           "automargin": true,
           "gridcolor": "white",
           "linecolor": "white",
           "ticks": "",
           "title": {
            "standoff": 15
           },
           "zerolinecolor": "white",
           "zerolinewidth": 2
          },
          "yaxis": {
           "automargin": true,
           "gridcolor": "white",
           "linecolor": "white",
           "ticks": "",
           "title": {
            "standoff": 15
           },
           "zerolinecolor": "white",
           "zerolinewidth": 2
          }
         }
        },
        "title": {
         "text": "Relación entre Producción de Barriles y Contaminante en NL, Universidad<br>Correlación: 0.68"
        },
        "xaxis": {
         "anchor": "y",
         "domain": [
          0,
          1
         ],
         "title": {
          "text": "Millones de Barriles"
         }
        },
        "yaxis": {
         "anchor": "x",
         "domain": [
          0,
          1
         ],
         "title": {
          "text": "Concentración"
         }
        }
       }
      }
     },
     "metadata": {},
     "output_type": "display_data"
    },
    {
     "name": "stdout",
     "output_type": "stream",
     "text": [
      "Coeficiente de correlación de Pearson: 0.68\n",
      "R² (coeficiente de determinación): 0.47\n",
      "p-valor: 0.0428\n"
     ]
    },
    {
     "data": {
      "image/png": "[encoded data removed]",
      "text/plain": [
       "<Figure size 640x480 with 2 Axes>"
      ]
     },
     "metadata": {},
     "output_type": "display_data"
    }
   ],
   "source": [
    "main(archivo_pkl = 'data\\IndicedeCalidad\\data_NO2.pkl', estacion = 'NL, Universidad', iloc_inicio= 7 , iloc_fin=16  )"
   ]
  },
  {
   "cell_type": "markdown",
   "metadata": {},
   "source": [
    "### Hagamos una gráfica dinamica y agreguemos las distancias en km para las estaciones"
   ]
  },
  {
   "cell_type": "code",
   "execution_count": null,
   "metadata": {},
   "outputs": [
    {
     "data": {
      "text/html": [
       "<div>\n",
       "<style scoped>\n",
       "    .dataframe tbody tr th:only-of-type {\n",
       "        vertical-align: middle;\n",
       "    }\n",
       "\n",
       "    .dataframe tbody tr th {\n",
       "        vertical-align: top;\n",
       "    }\n",
       "\n",
       "    .dataframe thead th {\n",
       "        text-align: right;\n",
       "    }\n",
       "</style>\n",
       "<table border=\"1\" class=\"dataframe\">\n",
       "  <thead>\n",
       "    <tr style=\"text-align: right;\">\n",
       "      <th></th>\n",
       "      <th>Estacion</th>\n",
       "      <th>lat</th>\n",
       "      <th>long</th>\n",
       "      <th>Distancia_km</th>\n",
       "    </tr>\n",
       "  </thead>\n",
       "  <tbody>\n",
       "    <tr>\n",
       "      <th>0</th>\n",
       "      <td>Cadereyta</td>\n",
       "      <td>25.60</td>\n",
       "      <td>-99.99</td>\n",
       "      <td>4.9</td>\n",
       "    </tr>\n",
       "    <tr>\n",
       "      <th>1</th>\n",
       "      <td>Juarez</td>\n",
       "      <td>25.65</td>\n",
       "      <td>-100.10</td>\n",
       "      <td>17.2</td>\n",
       "    </tr>\n",
       "    <tr>\n",
       "      <th>2</th>\n",
       "      <td>Pesquería</td>\n",
       "      <td>25.79</td>\n",
       "      <td>-100.08</td>\n",
       "      <td>26.4</td>\n",
       "    </tr>\n",
       "    <tr>\n",
       "      <th>3</th>\n",
       "      <td>Pueblo Serena</td>\n",
       "      <td>25.58</td>\n",
       "      <td>-100.25</td>\n",
       "      <td>30.7</td>\n",
       "    </tr>\n",
       "    <tr>\n",
       "      <th>4</th>\n",
       "      <td>La Pastora</td>\n",
       "      <td>25.67</td>\n",
       "      <td>-100.25</td>\n",
       "      <td>32.1</td>\n",
       "    </tr>\n",
       "    <tr>\n",
       "      <th>5</th>\n",
       "      <td>Apodaca</td>\n",
       "      <td>25.78</td>\n",
       "      <td>-100.19</td>\n",
       "      <td>32.7</td>\n",
       "    </tr>\n",
       "    <tr>\n",
       "      <th>6</th>\n",
       "      <td>San Nicolás</td>\n",
       "      <td>25.75</td>\n",
       "      <td>-100.26</td>\n",
       "      <td>36.5</td>\n",
       "    </tr>\n",
       "    <tr>\n",
       "      <th>7</th>\n",
       "      <td>Universidad</td>\n",
       "      <td>25.73</td>\n",
       "      <td>-100.31</td>\n",
       "      <td>40.0</td>\n",
       "    </tr>\n",
       "    <tr>\n",
       "      <th>8</th>\n",
       "      <td>Obispado</td>\n",
       "      <td>25.68</td>\n",
       "      <td>-100.34</td>\n",
       "      <td>41.0</td>\n",
       "    </tr>\n",
       "    <tr>\n",
       "      <th>9</th>\n",
       "      <td>Escobedo</td>\n",
       "      <td>25.80</td>\n",
       "      <td>-100.34</td>\n",
       "      <td>46.2</td>\n",
       "    </tr>\n",
       "    <tr>\n",
       "      <th>10</th>\n",
       "      <td>San Bernabé</td>\n",
       "      <td>25.76</td>\n",
       "      <td>-100.37</td>\n",
       "      <td>46.9</td>\n",
       "    </tr>\n",
       "    <tr>\n",
       "      <th>11</th>\n",
       "      <td>San Pedro</td>\n",
       "      <td>25.67</td>\n",
       "      <td>-100.41</td>\n",
       "      <td>47.6</td>\n",
       "    </tr>\n",
       "    <tr>\n",
       "      <th>12</th>\n",
       "      <td>Santa Catarina</td>\n",
       "      <td>25.68</td>\n",
       "      <td>-100.46</td>\n",
       "      <td>52.8</td>\n",
       "    </tr>\n",
       "    <tr>\n",
       "      <th>13</th>\n",
       "      <td>Misión San Juan</td>\n",
       "      <td>25.79</td>\n",
       "      <td>-100.46</td>\n",
       "      <td>56.4</td>\n",
       "    </tr>\n",
       "    <tr>\n",
       "      <th>14</th>\n",
       "      <td>García</td>\n",
       "      <td>25.78</td>\n",
       "      <td>-100.59</td>\n",
       "      <td>68.2</td>\n",
       "    </tr>\n",
       "  </tbody>\n",
       "</table>\n",
       "</div>"
      ],
      "text/plain": [
       "           Estacion    lat    long  Distancia_km\n",
       "0         Cadereyta  25.60  -99.99           4.9\n",
       "1            Juarez  25.65 -100.10          17.2\n",
       "2         Pesquería  25.79 -100.08          26.4\n",
       "3     Pueblo Serena  25.58 -100.25          30.7\n",
       "4        La Pastora  25.67 -100.25          32.1\n",
       "5           Apodaca  25.78 -100.19          32.7\n",
       "6       San Nicolás  25.75 -100.26          36.5\n",
       "7       Universidad  25.73 -100.31          40.0\n",
       "8          Obispado  25.68 -100.34          41.0\n",
       "9          Escobedo  25.80 -100.34          46.2\n",
       "10      San Bernabé  25.76 -100.37          46.9\n",
       "11        San Pedro  25.67 -100.41          47.6\n",
       "12   Santa Catarina  25.68 -100.46          52.8\n",
       "13  Misión San Juan  25.79 -100.46          56.4\n",
       "14           García  25.78 -100.59          68.2"
      ]
     },
     "execution_count": 2,
     "metadata": {},
     "output_type": "execute_result"
    }
   ],
   "source": [
    "import pandas as pd\n",
    "coor = pd.read_csv(r'data/Estaciones_coordenadas.csv')\n",
    "coor"
   ]
  },
  {
   "cell_type": "code",
   "execution_count": 25,
   "metadata": {},
   "outputs": [
    {
     "name": "stdout",
     "output_type": "stream",
     "text": [
      "[NL, Cadereyta - 4.9 km] PM2.5 - Correlación con barriles: 0.08\n",
      "[NL, Cadereyta - 4.9 km] PM10 - Correlación con barriles: -0.07\n",
      "[NL, Juarez - 17.2 km] PM2.5 - Correlación con barriles: 0.04\n",
      "[NL, Juarez - 17.2 km] PM10 - Correlación con barriles: 0.11\n",
      "[NL, Universidad - 40.0 km] PM2.5 - Correlación con barriles: 0.14\n",
      "[NL, Universidad - 40.0 km] PM10 - Correlación con barriles: 0.12\n"
     ]
    },
    {
     "name": "stderr",
     "output_type": "stream",
     "text": [
      "C:\\Users\\hgera\\AppData\\Local\\Temp\\ipykernel_16748\\4036649504.py:52: FutureWarning:\n",
      "\n",
      "'M' is deprecated and will be removed in a future version, please use 'ME' instead.\n",
      "\n"
     ]
    },
    {
     "data": {
      "application/vnd.plotly.v1+json": {
       "config": {
        "plotlyServerURL": "https://plot.ly"
       },
       "data": [
        {
         "line": {
          "color": "black",
          "width": 2
         },
         "marker": {
          "size": 6,
          "symbol": "circle"
         },
         "mode": "lines+markers",
         "name": "Refinería Ing. Héctor R. Lara Sosa",
         "type": "scatter",
         "x": [
          "2023-Enero",
          "2023-Febrero",
          "2023-Marzo",
          "2023-Abril",
          "2023-Mayo",
          "2023-Junio",
          "2023-Julio",
          "2023-Agosto",
          "2023-Septiembre",
          "2023-Octubre",
          "2023-Noviembre",
          "2023-Diciembre",
          "2024-Enero",
          "2024-Febrero",
          "2024-Marzo",
          "2024-Abril",
          "2024-Mayo",
          "2024-Junio",
          "2024-Julio",
          "2024-Agosto",
          "2024-Septiembre",
          "2024-Octubre",
          "2024-Noviembre",
          "2024-Diciembre"
         ],
         "xaxis": "x",
         "y": [
          101,
          132,
          135,
          142,
          82,
          148,
          84,
          87,
          94,
          121,
          147,
          156,
          169,
          165,
          160,
          150,
          89,
          123,
          162,
          170,
          131,
          166,
          96,
          134
         ],
         "yaxis": "y2"
        },
        {
         "marker": {
          "size": 8
         },
         "mode": "markers+lines",
         "name": "PM2.5 NL, Cadereyta (4.9 km)",
         "type": "scatter",
         "x": [
          "2023-Enero",
          "2023-Febrero",
          "2023-Marzo",
          "2023-Abril",
          "2023-Mayo",
          "2023-Junio",
          "2023-Julio",
          "2023-Agosto",
          "2023-Septiembre",
          "2023-Octubre",
          "2023-Noviembre",
          "2023-Diciembre",
          "2024-Enero",
          "2024-Febrero",
          "2024-Marzo",
          "2024-Abril",
          "2024-Mayo",
          "2024-Junio",
          "2024-Julio",
          "2024-Agosto",
          "2024-Septiembre",
          "2024-Octubre",
          "2024-Noviembre",
          "2024-Diciembre"
         ],
         "xaxis": "x",
         "y": [
          16.5,
          13.81,
          16.96,
          13.29,
          14.7,
          15.96,
          12.11,
          11.83,
          9,
          11.85,
          11.89,
          16.83,
          13.55,
          16.32,
          16.44,
          15.79,
          23.46,
          14.33,
          15.5,
          14.36,
          13.65,
          13.96,
          15.08,
          16.48
         ],
         "yaxis": "y"
        },
        {
         "marker": {
          "size": 8,
          "symbol": "triangle-up"
         },
         "mode": "markers+lines",
         "name": "PM10 NL, Cadereyta (4.9 km)",
         "type": "scatter",
         "x": [
          "2023-Enero",
          "2023-Febrero",
          "2023-Marzo",
          "2023-Abril",
          "2023-Mayo",
          "2023-Junio",
          "2023-Julio",
          "2023-Agosto",
          "2023-Septiembre",
          "2023-Octubre",
          "2023-Noviembre",
          "2023-Diciembre",
          "2024-Enero",
          "2024-Febrero",
          "2024-Marzo",
          "2024-Abril",
          "2024-Mayo",
          "2024-Junio",
          "2024-Julio",
          "2024-Agosto",
          "2024-Septiembre",
          "2024-Octubre",
          "2024-Noviembre",
          "2024-Diciembre"
         ],
         "xaxis": "x",
         "y": [
          54.42,
          56.19,
          59.46,
          55.21,
          50.82,
          56.07,
          51.59,
          55.27,
          46.96,
          49.75,
          46.11,
          52.12,
          47.5,
          62.76,
          59.5,
          67.15,
          77.52,
          51.79,
          55.42,
          55.03,
          47.92,
          50.25,
          58.88,
          49.41
         ],
         "yaxis": "y"
        },
        {
         "marker": {
          "size": 8
         },
         "mode": "markers+lines",
         "name": "PM2.5 NL, Juarez (17.2 km)",
         "type": "scatter",
         "x": [
          "2023-Enero",
          "2023-Febrero",
          "2023-Marzo",
          "2023-Abril",
          "2023-Mayo",
          "2023-Junio",
          "2023-Julio",
          "2023-Agosto",
          "2023-Septiembre",
          "2023-Octubre",
          "2023-Noviembre",
          "2023-Diciembre",
          "2024-Enero",
          "2024-Febrero",
          "2024-Marzo",
          "2024-Abril",
          "2024-Mayo",
          "2024-Junio",
          "2024-Julio",
          "2024-Agosto",
          "2024-Septiembre",
          "2024-Octubre",
          "2024-Noviembre",
          "2024-Diciembre"
         ],
         "xaxis": "x",
         "y": [
          20.33,
          23.62,
          28.39,
          26,
          26,
          27.21,
          16.41,
          16.94,
          12.64,
          18.17,
          20.19,
          26.14,
          23.41,
          26.6,
          27,
          27.53,
          41.36,
          29.52,
          21.62,
          15.1,
          15.79,
          19.04,
          21.25,
          20.31
         ],
         "yaxis": "y"
        },
        {
         "marker": {
          "size": 8,
          "symbol": "triangle-up"
         },
         "mode": "markers+lines",
         "name": "PM10 NL, Juarez (17.2 km)",
         "type": "scatter",
         "x": [
          "2023-Enero",
          "2023-Febrero",
          "2023-Marzo",
          "2023-Abril",
          "2023-Mayo",
          "2023-Junio",
          "2023-Julio",
          "2023-Agosto",
          "2023-Septiembre",
          "2023-Octubre",
          "2023-Noviembre",
          "2023-Diciembre",
          "2024-Enero",
          "2024-Febrero",
          "2024-Marzo",
          "2024-Abril",
          "2024-Mayo",
          "2024-Junio",
          "2024-Julio",
          "2024-Agosto",
          "2024-Septiembre",
          "2024-Octubre",
          "2024-Noviembre",
          "2024-Diciembre"
         ],
         "xaxis": "x",
         "y": [
          67,
          62.25,
          62.07,
          56.66,
          56.52,
          60.03,
          49.63,
          53.65,
          38.97,
          44.43,
          49.81,
          64.78,
          55.32,
          66.86,
          62.96,
          74.94,
          89.52,
          48.72,
          59.19,
          57.17,
          55.62,
          63.4,
          62.32,
          53.81
         ],
         "yaxis": "y"
        },
        {
         "marker": {
          "size": 8
         },
         "mode": "markers+lines",
         "name": "PM2.5 NL, Universidad (40.0 km)",
         "type": "scatter",
         "x": [
          "2023-Enero",
          "2023-Febrero",
          "2023-Marzo",
          "2023-Abril",
          "2023-Mayo",
          "2023-Junio",
          "2023-Julio",
          "2023-Agosto",
          "2023-Septiembre",
          "2023-Octubre",
          "2023-Noviembre",
          "2023-Diciembre",
          "2024-Enero",
          "2024-Febrero",
          "2024-Marzo",
          "2024-Abril",
          "2024-Mayo",
          "2024-Junio",
          "2024-Julio",
          "2024-Agosto",
          "2024-Septiembre",
          "2024-Octubre",
          "2024-Noviembre",
          "2024-Diciembre"
         ],
         "xaxis": "x",
         "y": [
          18.38,
          16.92,
          19.87,
          17.31,
          18.6,
          17.77,
          14.3,
          13.8,
          12.04,
          15.42,
          15.71,
          18.9,
          16.83,
          17.81,
          20.53,
          23.42,
          26.3,
          15.18,
          19.43,
          16.29,
          15.18,
          17.25,
          18.08,
          17.79
         ],
         "yaxis": "y"
        },
        {
         "marker": {
          "size": 8,
          "symbol": "triangle-up"
         },
         "mode": "markers+lines",
         "name": "PM10 NL, Universidad (40.0 km)",
         "type": "scatter",
         "x": [
          "2023-Enero",
          "2023-Febrero",
          "2023-Marzo",
          "2023-Abril",
          "2023-Mayo",
          "2023-Junio",
          "2023-Julio",
          "2023-Agosto",
          "2023-Septiembre",
          "2023-Octubre",
          "2023-Noviembre",
          "2023-Diciembre",
          "2024-Enero",
          "2024-Febrero",
          "2024-Marzo",
          "2024-Abril",
          "2024-Mayo",
          "2024-Junio",
          "2024-Julio",
          "2024-Agosto",
          "2024-Septiembre",
          "2024-Octubre",
          "2024-Noviembre",
          "2024-Diciembre"
         ],
         "xaxis": "x",
         "y": [
          66,
          62.44,
          66.15,
          57.26,
          51.53,
          50.59,
          45.46,
          48.65,
          41.15,
          45.43,
          52.31,
          62.75,
          55.58,
          62.35,
          55.56,
          60.43,
          73.53,
          40.52,
          53.74,
          49.3,
          42.48,
          56.08,
          58.96,
          57.93
         ],
         "yaxis": "y"
        },
        {
         "line": {
          "color": "rgb(0,228,0)",
          "dash": "solid",
          "width": 2
         },
         "mode": "lines",
         "name": "Buena (PM2.5)",
         "showlegend": true,
         "type": "scatter",
         "visible": "legendonly",
         "x": [
          "2023-Enero",
          "2024-Diciembre"
         ],
         "y": [
          15,
          15
         ]
        },
        {
         "line": {
          "color": "rgb(255,255,0)",
          "dash": "solid",
          "width": 2
         },
         "mode": "lines",
         "name": "Aceptable (PM2.5)",
         "showlegend": true,
         "type": "scatter",
         "visible": "legendonly",
         "x": [
          "2023-Enero",
          "2024-Diciembre"
         ],
         "y": [
          33,
          33
         ]
        },
        {
         "line": {
          "color": "rgb(255,126,0)",
          "dash": "solid",
          "width": 2
         },
         "mode": "lines",
         "name": "Mala (PM2.5)",
         "showlegend": true,
         "type": "scatter",
         "visible": "legendonly",
         "x": [
          "2023-Enero",
          "2024-Diciembre"
         ],
         "y": [
          79,
          79
         ]
        },
        {
         "line": {
          "color": "rgb(255,0,0)",
          "dash": "solid",
          "width": 2
         },
         "mode": "lines",
         "name": "Muy mala (PM2.5)",
         "showlegend": true,
         "type": "scatter",
         "visible": "legendonly",
         "x": [
          "2023-Enero",
          "2024-Diciembre"
         ],
         "y": [
          130,
          130
         ]
        },
        {
         "line": {
          "color": "rgb(143,63,151)",
          "dash": "solid",
          "width": 2
         },
         "mode": "lines",
         "name": "Extremadamente mala (PM2.5)",
         "showlegend": true,
         "type": "scatter",
         "visible": "legendonly",
         "x": [
          "2023-Enero",
          "2024-Diciembre"
         ],
         "y": [
          200,
          200
         ]
        },
        {
         "line": {
          "color": "rgb(0,228,0)",
          "dash": "dot",
          "width": 2
         },
         "mode": "lines",
         "name": "Buena (PM10)",
         "showlegend": true,
         "type": "scatter",
         "visible": "legendonly",
         "x": [
          "2023-Enero",
          "2024-Diciembre"
         ],
         "y": [
          45,
          45
         ]
        },
        {
         "line": {
          "color": "rgb(255,255,0)",
          "dash": "dot",
          "width": 2
         },
         "mode": "lines",
         "name": "Aceptable (PM10)",
         "showlegend": true,
         "type": "scatter",
         "visible": "legendonly",
         "x": [
          "2023-Enero",
          "2024-Diciembre"
         ],
         "y": [
          60,
          60
         ]
        },
        {
         "line": {
          "color": "rgb(255,126,0)",
          "dash": "dot",
          "width": 2
         },
         "mode": "lines",
         "name": "Mala (PM10)",
         "showlegend": true,
         "type": "scatter",
         "visible": "legendonly",
         "x": [
          "2023-Enero",
          "2024-Diciembre"
         ],
         "y": [
          132,
          132
         ]
        },
        {
         "line": {
          "color": "rgb(255,0,0)",
          "dash": "dot",
          "width": 2
         },
         "mode": "lines",
         "name": "Muy mala (PM10)",
         "showlegend": true,
         "type": "scatter",
         "visible": "legendonly",
         "x": [
          "2023-Enero",
          "2024-Diciembre"
         ],
         "y": [
          213,
          213
         ]
        },
        {
         "line": {
          "color": "rgb(143,63,151)",
          "dash": "dot",
          "width": 2
         },
         "mode": "lines",
         "name": "Extremadamente mala (PM10)",
         "showlegend": true,
         "type": "scatter",
         "visible": "legendonly",
         "x": [
          "2023-Enero",
          "2024-Diciembre"
         ],
         "y": [
          300,
          300
         ]
        }
       ],
       "layout": {
        "legend": {
         "x": 1,
         "y": 1
        },
        "template": {
         "data": {
          "bar": [
           {
            "error_x": {
             "color": "#2a3f5f"
            },
            "error_y": {
             "color": "#2a3f5f"
            },
            "marker": {
             "line": {
              "color": "white",
              "width": 0.5
             },
             "pattern": {
              "fillmode": "overlay",
              "size": 10,
              "solidity": 0.2
             }
            },
            "type": "bar"
           }
          ],
          "barpolar": [
           {
            "marker": {
             "line": {
              "color": "white",
              "width": 0.5
             },
             "pattern": {
              "fillmode": "overlay",
              "size": 10,
              "solidity": 0.2
             }
            },
            "type": "barpolar"
           }
          ],
          "carpet": [
           {
            "aaxis": {
             "endlinecolor": "#2a3f5f",
             "gridcolor": "#C8D4E3",
             "linecolor": "#C8D4E3",
             "minorgridcolor": "#C8D4E3",
             "startlinecolor": "#2a3f5f"
            },
            "baxis": {
             "endlinecolor": "#2a3f5f",
             "gridcolor": "#C8D4E3",
             "linecolor": "#C8D4E3",
             "minorgridcolor": "#C8D4E3",
             "startlinecolor": "#2a3f5f"
            },
            "type": "carpet"
           }
          ],
          "choropleth": [
           {
            "colorbar": {
             "outlinewidth": 0,
             "ticks": ""
            },
            "type": "choropleth"
           }
          ],
          "contour": [
           {
            "colorbar": {
             "outlinewidth": 0,
             "ticks": ""
            },
            "colorscale": [
             [
              0,
              "#0d0887"
             ],
             [
              0.1111111111111111,
              "#46039f"
             ],
             [
              0.2222222222222222,
              "#7201a8"
             ],
             [
              0.3333333333333333,
              "#9c179e"
             ],
             [
              0.4444444444444444,
              "#bd3786"
             ],
             [
              0.5555555555555556,
              "#d8576b"
             ],
             [
              0.6666666666666666,
              "#ed7953"
             ],
             [
              0.7777777777777778,
              "#fb9f3a"
             ],
             [
              0.8888888888888888,
              "#fdca26"
             ],
             [
              1,
              "#f0f921"
             ]
            ],
            "type": "contour"
           }
          ],
          "contourcarpet": [
           {
            "colorbar": {
             "outlinewidth": 0,
             "ticks": ""
            },
            "type": "contourcarpet"
           }
          ],
          "heatmap": [
           {
            "colorbar": {
             "outlinewidth": 0,
             "ticks": ""
            },
            "colorscale": [
             [
              0,
              "#0d0887"
             ],
             [
              0.1111111111111111,
              "#46039f"
             ],
             [
              0.2222222222222222,
              "#7201a8"
             ],
             [
              0.3333333333333333,
              "#9c179e"
             ],
             [
              0.4444444444444444,
              "#bd3786"
             ],
             [
              0.5555555555555556,
              "#d8576b"
             ],
             [
              0.6666666666666666,
              "#ed7953"
             ],
             [
              0.7777777777777778,
              "#fb9f3a"
             ],
             [
              0.8888888888888888,
              "#fdca26"
             ],
             [
              1,
              "#f0f921"
             ]
            ],
            "type": "heatmap"
           }
          ],
          "heatmapgl": [
           {
            "colorbar": {
             "outlinewidth": 0,
             "ticks": ""
            },
            "colorscale": [
             [
              0,
              "#0d0887"
             ],
             [
              0.1111111111111111,
              "#46039f"
             ],
             [
              0.2222222222222222,
              "#7201a8"
             ],
             [
              0.3333333333333333,
              "#9c179e"
             ],
             [
              0.4444444444444444,
              "#bd3786"
             ],
             [
              0.5555555555555556,
              "#d8576b"
             ],
             [
              0.6666666666666666,
              "#ed7953"
             ],
             [
              0.7777777777777778,
              "#fb9f3a"
             ],
             [
              0.8888888888888888,
              "#fdca26"
             ],
             [
              1,
              "#f0f921"
             ]
            ],
            "type": "heatmapgl"
           }
          ],
          "histogram": [
           {
            "marker": {
             "pattern": {
              "fillmode": "overlay",
              "size": 10,
              "solidity": 0.2
             }
            },
            "type": "histogram"
           }
          ],
          "histogram2d": [
           {
            "colorbar": {
             "outlinewidth": 0,
             "ticks": ""
            },
            "colorscale": [
             [
              0,
              "#0d0887"
             ],
             [
              0.1111111111111111,
              "#46039f"
             ],
             [
              0.2222222222222222,
              "#7201a8"
             ],
             [
              0.3333333333333333,
              "#9c179e"
             ],
             [
              0.4444444444444444,
              "#bd3786"
             ],
             [
              0.5555555555555556,
              "#d8576b"
             ],
             [
              0.6666666666666666,
              "#ed7953"
             ],
             [
              0.7777777777777778,
              "#fb9f3a"
             ],
             [
              0.8888888888888888,
              "#fdca26"
             ],
             [
              1,
              "#f0f921"
             ]
            ],
            "type": "histogram2d"
           }
          ],
          "histogram2dcontour": [
           {
            "colorbar": {
             "outlinewidth": 0,
             "ticks": ""
            },
            "colorscale": [
             [
              0,
              "#0d0887"
             ],
             [
              0.1111111111111111,
              "#46039f"
             ],
             [
              0.2222222222222222,
              "#7201a8"
             ],
             [
              0.3333333333333333,
              "#9c179e"
             ],
             [
              0.4444444444444444,
              "#bd3786"
             ],
             [
              0.5555555555555556,
              "#d8576b"
             ],
             [
              0.6666666666666666,
              "#ed7953"
             ],
             [
              0.7777777777777778,
              "#fb9f3a"
             ],
             [
              0.8888888888888888,
              "#fdca26"
             ],
             [
              1,
              "#f0f921"
             ]
            ],
            "type": "histogram2dcontour"
           }
          ],
          "mesh3d": [
           {
            "colorbar": {
             "outlinewidth": 0,
             "ticks": ""
            },
            "type": "mesh3d"
           }
          ],
          "parcoords": [
           {
            "line": {
             "colorbar": {
              "outlinewidth": 0,
              "ticks": ""
             }
            },
            "type": "parcoords"
           }
          ],
          "pie": [
           {
            "automargin": true,
            "type": "pie"
           }
          ],
          "scatter": [
           {
            "fillpattern": {
             "fillmode": "overlay",
             "size": 10,
             "solidity": 0.2
            },
            "type": "scatter"
           }
          ],
          "scatter3d": [
           {
            "line": {
             "colorbar": {
              "outlinewidth": 0,
              "ticks": ""
             }
            },
            "marker": {
             "colorbar": {
              "outlinewidth": 0,
              "ticks": ""
             }
            },
            "type": "scatter3d"
           }
          ],
          "scattercarpet": [
           {
            "marker": {
             "colorbar": {
              "outlinewidth": 0,
              "ticks": ""
             }
            },
            "type": "scattercarpet"
           }
          ],
          "scattergeo": [
           {
            "marker": {
             "colorbar": {
              "outlinewidth": 0,
              "ticks": ""
             }
            },
            "type": "scattergeo"
           }
          ],
          "scattergl": [
           {
            "marker": {
             "colorbar": {
              "outlinewidth": 0,
              "ticks": ""
             }
            },
            "type": "scattergl"
           }
          ],
          "scattermapbox": [
           {
            "marker": {
             "colorbar": {
              "outlinewidth": 0,
              "ticks": ""
             }
            },
            "type": "scattermapbox"
           }
          ],
          "scatterpolar": [
           {
            "marker": {
             "colorbar": {
              "outlinewidth": 0,
              "ticks": ""
             }
            },
            "type": "scatterpolar"
           }
          ],
          "scatterpolargl": [
           {
            "marker": {
             "colorbar": {
              "outlinewidth": 0,
              "ticks": ""
             }
            },
            "type": "scatterpolargl"
           }
          ],
          "scatterternary": [
           {
            "marker": {
             "colorbar": {
              "outlinewidth": 0,
              "ticks": ""
             }
            },
            "type": "scatterternary"
           }
          ],
          "surface": [
           {
            "colorbar": {
             "outlinewidth": 0,
             "ticks": ""
            },
            "colorscale": [
             [
              0,
              "#0d0887"
             ],
             [
              0.1111111111111111,
              "#46039f"
             ],
             [
              0.2222222222222222,
              "#7201a8"
             ],
             [
              0.3333333333333333,
              "#9c179e"
             ],
             [
              0.4444444444444444,
              "#bd3786"
             ],
             [
              0.5555555555555556,
              "#d8576b"
             ],
             [
              0.6666666666666666,
              "#ed7953"
             ],
             [
              0.7777777777777778,
              "#fb9f3a"
             ],
             [
              0.8888888888888888,
              "#fdca26"
             ],
             [
              1,
              "#f0f921"
             ]
            ],
            "type": "surface"
           }
          ],
          "table": [
           {
            "cells": {
             "fill": {
              "color": "#EBF0F8"
             },
             "line": {
              "color": "white"
             }
            },
            "header": {
             "fill": {
              "color": "#C8D4E3"
             },
             "line": {
              "color": "white"
             }
            },
            "type": "table"
           }
          ]
         },
         "layout": {
          "annotationdefaults": {
           "arrowcolor": "#2a3f5f",
           "arrowhead": 0,
           "arrowwidth": 1
          },
          "autotypenumbers": "strict",
          "coloraxis": {
           "colorbar": {
            "outlinewidth": 0,
            "ticks": ""
           }
          },
          "colorscale": {
           "diverging": [
            [
             0,
             "#8e0152"
            ],
            [
             0.1,
             "#c51b7d"
            ],
            [
             0.2,
             "#de77ae"
            ],
            [
             0.3,
             "#f1b6da"
            ],
            [
             0.4,
             "#fde0ef"
            ],
            [
             0.5,
             "#f7f7f7"
            ],
            [
             0.6,
             "#e6f5d0"
            ],
            [
             0.7,
             "#b8e186"
            ],
            [
             0.8,
             "#7fbc41"
            ],
            [
             0.9,
             "#4d9221"
            ],
            [
             1,
             "#276419"
            ]
           ],
           "sequential": [
            [
             0,
             "#0d0887"
            ],
            [
             0.1111111111111111,
             "#46039f"
            ],
            [
             0.2222222222222222,
             "#7201a8"
            ],
            [
             0.3333333333333333,
             "#9c179e"
            ],
            [
             0.4444444444444444,
             "#bd3786"
            ],
            [
             0.5555555555555556,
             "#d8576b"
            ],
            [
             0.6666666666666666,
             "#ed7953"
            ],
            [
             0.7777777777777778,
             "#fb9f3a"
            ],
            [
             0.8888888888888888,
             "#fdca26"
            ],
            [
             1,
             "#f0f921"
            ]
           ],
           "sequentialminus": [
            [
             0,
             "#0d0887"
            ],
            [
             0.1111111111111111,
             "#46039f"
            ],
            [
             0.2222222222222222,
             "#7201a8"
            ],
            [
             0.3333333333333333,
             "#9c179e"
            ],
            [
             0.4444444444444444,
             "#bd3786"
            ],
            [
             0.5555555555555556,
             "#d8576b"
            ],
            [
             0.6666666666666666,
             "#ed7953"
            ],
            [
             0.7777777777777778,
             "#fb9f3a"
            ],
            [
             0.8888888888888888,
             "#fdca26"
            ],
            [
             1,
             "#f0f921"
            ]
           ]
          },
          "colorway": [
           "#636efa",
           "#EF553B",
           "#00cc96",
           "#ab63fa",
           "#FFA15A",
           "#19d3f3",
           "#FF6692",
           "#B6E880",
           "#FF97FF",
           "#FECB52"
          ],
          "font": {
           "color": "#2a3f5f"
          },
          "geo": {
           "bgcolor": "white",
           "lakecolor": "white",
           "landcolor": "white",
           "showlakes": true,
           "showland": true,
           "subunitcolor": "#C8D4E3"
          },
          "hoverlabel": {
           "align": "left"
          },
          "hovermode": "closest",
          "mapbox": {
           "style": "light"
          },
          "paper_bgcolor": "white",
          "plot_bgcolor": "white",
          "polar": {
           "angularaxis": {
            "gridcolor": "#EBF0F8",
            "linecolor": "#EBF0F8",
            "ticks": ""
           },
           "bgcolor": "white",
           "radialaxis": {
            "gridcolor": "#EBF0F8",
            "linecolor": "#EBF0F8",
            "ticks": ""
           }
          },
          "scene": {
           "xaxis": {
            "backgroundcolor": "white",
            "gridcolor": "#DFE8F3",
            "gridwidth": 2,
            "linecolor": "#EBF0F8",
            "showbackground": true,
            "ticks": "",
            "zerolinecolor": "#EBF0F8"
           },
           "yaxis": {
            "backgroundcolor": "white",
            "gridcolor": "#DFE8F3",
            "gridwidth": 2,
            "linecolor": "#EBF0F8",
            "showbackground": true,
            "ticks": "",
            "zerolinecolor": "#EBF0F8"
           },
           "zaxis": {
            "backgroundcolor": "white",
            "gridcolor": "#DFE8F3",
            "gridwidth": 2,
            "linecolor": "#EBF0F8",
            "showbackground": true,
            "ticks": "",
            "zerolinecolor": "#EBF0F8"
           }
          },
          "shapedefaults": {
           "line": {
            "color": "#2a3f5f"
           }
          },
          "ternary": {
           "aaxis": {
            "gridcolor": "#DFE8F3",
            "linecolor": "#A2B1C6",
            "ticks": ""
           },
           "baxis": {
            "gridcolor": "#DFE8F3",
            "linecolor": "#A2B1C6",
            "ticks": ""
           },
           "bgcolor": "white",
           "caxis": {
            "gridcolor": "#DFE8F3",
            "linecolor": "#A2B1C6",
            "ticks": ""
           }
          },
          "title": {
           "x": 0.05
          },
          "xaxis": {
           "automargin": true,
           "gridcolor": "#EBF0F8",
           "linecolor": "#EBF0F8",
           "ticks": "",
           "title": {
            "standoff": 15
           },
           "zerolinecolor": "#EBF0F8",
           "zerolinewidth": 2
          },
          "yaxis": {
           "automargin": true,
           "gridcolor": "#EBF0F8",
           "linecolor": "#EBF0F8",
           "ticks": "",
           "title": {
            "standoff": 15
           },
           "zerolinecolor": "#EBF0F8",
           "zerolinewidth": 2
          }
         }
        },
        "title": {
         "text": "Red: Monterrey"
        },
        "xaxis": {
         "anchor": "y",
         "domain": [
          0,
          0.94
         ],
         "tickangle": -45,
         "title": {
          "text": "Fecha"
         }
        },
        "yaxis": {
         "anchor": "x",
         "domain": [
          0,
          1
         ],
         "title": {
          "text": "Promedio mensual concentración 24h [µg/m³]"
         }
        },
        "yaxis2": {
         "anchor": "x",
         "overlaying": "y",
         "side": "right",
         "title": {
          "text": "Promedio mensual [mbd]"
         }
        }
       }
      }
     },
     "metadata": {},
     "output_type": "display_data"
    }
   ],
   "source": [
    "import pickle as pkl\n",
    "import pandas as pd\n",
    "import plotly.graph_objects as go\n",
    "from plotly.subplots import make_subplots\n",
    "from scipy.stats import pearsonr\n",
    "\n",
    "# Traducción de meses\n",
    "meses_es = {\n",
    "    'January': 'Enero', 'February': 'Febrero', 'March': 'Marzo', 'April': 'Abril',\n",
    "    'May': 'Mayo', 'June': 'Junio', 'July': 'Julio', 'August': 'Agosto',\n",
    "    'September': 'Septiembre', 'October': 'Octubre', 'November': 'Noviembre', 'December': 'Diciembre'\n",
    "}\n",
    "\n",
    "# Coordenadas de estaciones con distancia en km\n",
    "estaciones_km = {\n",
    "    'NL, Cadereyta': 4.9,\n",
    "    'NL, Juarez': 17.2,\n",
    "    'NL, Universidad': 40.0\n",
    "}\n",
    "\n",
    "# Umbrales de calidad del aire para PM2.5 y PM10\n",
    "umbrales = {\n",
    "    'PM2.5': [(15, 'Buena', 'rgb(0,228,0)'), (33, 'Aceptable', 'rgb(255,255,0)'), \n",
    "              (79, 'Mala', 'rgb(255,126,0)'), (130, 'Muy mala', 'rgb(255,0,0)'), \n",
    "              (200, 'Extremadamente mala', 'rgb(143,63,151)')],\n",
    "    'PM10': [(45, 'Buena', 'rgb(0,228,0)'), (60, 'Aceptable', 'rgb(255,255,0)'), \n",
    "             (132, 'Mala', 'rgb(255,126,0)'), (213, 'Muy mala', 'rgb(255,0,0)'), \n",
    "             (300, 'Extremadamente mala', 'rgb(143,63,151)')]\n",
    "}\n",
    "\n",
    "# Función para cargar datos de PM2.5 o PM10\n",
    "def cargar_datos(archivo_pkl, estacion):\n",
    "    with open(archivo_pkl, 'rb') as f:\n",
    "        data = pkl.load(f)\n",
    "    pm_NL = data.query(f'Estación == \"{estacion}\"')\n",
    "    m_pm_NL = pm_NL.groupby(pm_NL['Fecha_Dia'].dt.to_period(\"M\"))['Concentración por día'].mean().reset_index()\n",
    "    m_pm_NL.rename(columns={'Fecha_Dia': 'Fecha', 'Concentración por día': 'Concentración Promedio Mensual'}, inplace=True)\n",
    "    m_pm_NL['Concentración Promedio Mensual'] = m_pm_NL['Concentración Promedio Mensual'].round(2)\n",
    "    return m_pm_NL\n",
    "\n",
    "# Rango de datos\n",
    "iloc_inicio = 0\n",
    "iloc_fin = 24\n",
    "\n",
    "# Archivos de datos\n",
    "archivo_pm25 = 'data/IndicedeCalidad/data_PM2.5.pkl'\n",
    "archivo_pm10 = 'data/IndicedeCalidad/data_PM10.pkl'\n",
    "estaciones = list(estaciones_km.keys())\n",
    "\n",
    "# Datos de producción de barriles\n",
    "pemex_NL = pd.DataFrame({\n",
    "    'Fecha': pd.date_range(start='2023-01', end='2025-01', freq='M').strftime('%Y-%B'),\n",
    "    'Miles de barriles mensuales': [101, 132, 135, 142, 82, 148, 84, 87, 94, 121, 147, 156,\n",
    "                                    169, 165, 160, 150, 89, 123, 162, 170, 131, 166, 96, 134]\n",
    "})\n",
    "\n",
    "# Reemplazar nombres de meses en inglés por español\n",
    "pemex_NL['Fecha'] = pemex_NL['Fecha'].replace(meses_es, regex=True)\n",
    "\n",
    "# Crear gráfico con doble eje Y\n",
    "fig = make_subplots(specs=[[{\"secondary_y\": True}]])\n",
    "\n",
    "# Agregar producción de barriles al eje derecho\n",
    "fig.add_trace(go.Scatter(x=pemex_NL['Fecha'][iloc_inicio:iloc_fin], \n",
    "                         y=pemex_NL['Miles de barriles mensuales'][iloc_inicio:iloc_fin], \n",
    "                         mode='lines+markers', \n",
    "                         name='Refinería Ing. Héctor R. Lara Sosa', \n",
    "                         line=dict(color='black', width=2), \n",
    "                         marker=dict(symbol='circle', size=6)), \n",
    "              secondary_y=True)\n",
    "\n",
    "# Agregar datos de PM2.5 y PM10 por estación\n",
    "for estacion in estaciones:\n",
    "    m_pm25_NL = cargar_datos(archivo_pm25, estacion)\n",
    "    m_pm10_NL = cargar_datos(archivo_pm10, estacion)\n",
    "    \n",
    "    barriles = pemex_NL['Miles de barriles mensuales'].iloc[iloc_inicio:iloc_fin]\n",
    "    pm25 = m_pm25_NL['Concentración Promedio Mensual'].iloc[iloc_inicio:iloc_fin]\n",
    "    pm10 = m_pm10_NL['Concentración Promedio Mensual'].iloc[iloc_inicio:iloc_fin]\n",
    "    \n",
    "    # Cálculo de correlación\n",
    "    corr_pm25, _ = pearsonr(barriles.dropna(), pm25.dropna())\n",
    "    corr_pm10, _ = pearsonr(barriles.dropna(), pm10.dropna())\n",
    "\n",
    "    # Agregar puntos de datos de PM2.5 con label de kilómetros\n",
    "    fig.add_trace(go.Scatter(\n",
    "        x=pemex_NL['Fecha'][iloc_inicio:iloc_fin], \n",
    "        y=pm25, \n",
    "        mode='markers+lines', \n",
    "        name=f'PM2.5 {estacion} ({estaciones_km[estacion]} km)', \n",
    "        marker=dict(size=8)), \n",
    "        secondary_y=False)\n",
    "    \n",
    "    # Agregar puntos de datos de PM10 con label de kilómetros\n",
    "    fig.add_trace(go.Scatter(\n",
    "        x=pemex_NL['Fecha'][iloc_inicio:iloc_fin], \n",
    "        y=pm10, \n",
    "        mode='markers+lines', \n",
    "        name=f'PM10 {estacion} ({estaciones_km[estacion]} km)', \n",
    "        marker=dict(size=8, symbol=\"triangle-up\")), \n",
    "        secondary_y=False)\n",
    "    \n",
    "    print(f'[{estacion} - {estaciones_km[estacion]} km] PM2.5 - Correlación con barriles: {corr_pm25:.2f}')\n",
    "    print(f'[{estacion} - {estaciones_km[estacion]} km] PM10 - Correlación con barriles: {corr_pm10:.2f}')\n",
    "\n",
    "# Agregar líneas horizontales de umbrales\n",
    "for contaminante, niveles in umbrales.items():\n",
    "    if contaminante == 'PM2.5':\n",
    "        estilo = \"solid\"\n",
    "    else:\n",
    "        estilo = 'dot'\n",
    "    for valor, label, color in niveles:\n",
    "     \n",
    "        fig.add_trace(\n",
    "            go.Scatter(\n",
    "                x=[pemex_NL['Fecha'].iloc[iloc_inicio], pemex_NL['Fecha'].iloc[iloc_fin-1]],\n",
    "                y=[valor, valor],\n",
    "                mode='lines',\n",
    "                line=dict(color=color, width=2, dash=estilo),\n",
    "                name=f'{label} ({contaminante})',\n",
    "                showlegend=True,\n",
    "                visible= 'legendonly'\n",
    "            )\n",
    "        )\n",
    "        \n",
    "        # fig.add_annotation(\n",
    "        #     x=pemex_NL['Fecha'].iloc[0], y=valor,\n",
    "        #     text=f\"{label} ({contaminante})\",\n",
    "        #     showarrow=False,\n",
    "        #     font=dict(color='black', size=7),\n",
    "        #     xanchor=\"left\",\n",
    "        #     yanchor= 'top'\n",
    "        # )\n",
    "\n",
    "# Configurar ejes\n",
    "fig.update_layout(\n",
    "    title=\"Red: Monterrey\",\n",
    "    xaxis_title=\"Fecha\",\n",
    "    yaxis_title=r'Promedio mensual concentración 24h [µg/m³]',\n",
    "    yaxis2_title=\"Promedio mensual [mbd]\",\n",
    "    legend=dict(x=1, y=1),\n",
    "    template=\"plotly_white\"\n",
    ")\n",
    "fig.update_layout(xaxis=dict(tickangle=-45))  # Rotar etiquetas del eje X 45 grados\n",
    "fig.write_html('Barriles_vs_PM.html')\n",
    "\n",
    "# Mostrar gráfico\n",
    "fig.show()\n"
   ]
  },
  {
   "cell_type": "markdown",
   "metadata": {},
   "source": [
    "#### Para no PM"
   ]
  },
  {
   "cell_type": "code",
   "execution_count": 31,
   "metadata": {},
   "outputs": [
    {
     "name": "stdout",
     "output_type": "stream",
     "text": [
      "[NL, Cadereyta - 4.9 km] NO2 - Correlación con barriles: 0.20\n",
      "[NL, Cadereyta - 4.9 km] O3 - Correlación con barriles: -0.11\n",
      "[NL, Cadereyta - 4.9 km] SO2 - Correlación con barriles: -0.11\n",
      "[NL, Juarez - 17.2 km] NO2 - Correlación con barriles: 0.10\n",
      "[NL, Juarez - 17.2 km] O3 - Correlación con barriles: -0.47\n",
      "[NL, Juarez - 17.2 km] SO2 - Correlación con barriles: -0.18\n",
      "[NL, Universidad - 40.0 km] NO2 - Correlación con barriles: 0.25\n",
      "[NL, Universidad - 40.0 km] O3 - Correlación con barriles: -0.31\n",
      "[NL, Universidad - 40.0 km] SO2 - Correlación con barriles: -0.24\n"
     ]
    },
    {
     "name": "stderr",
     "output_type": "stream",
     "text": [
      "C:\\Users\\hgera\\AppData\\Local\\Temp\\ipykernel_16748\\2522653519.py:57: FutureWarning:\n",
      "\n",
      "'M' is deprecated and will be removed in a future version, please use 'ME' instead.\n",
      "\n"
     ]
    },
    {
     "data": {
      "application/vnd.plotly.v1+json": {
       "config": {
        "plotlyServerURL": "https://plot.ly"
       },
       "data": [
        {
         "line": {
          "color": "black",
          "width": 2
         },
         "marker": {
          "size": 6,
          "symbol": "circle"
         },
         "mode": "lines+markers",
         "name": "Refinería Ing. Héctor R. Lara Sosa",
         "type": "scatter",
         "x": [
          "2023-Enero",
          "2023-Febrero",
          "2023-Marzo",
          "2023-Abril",
          "2023-Mayo",
          "2023-Junio",
          "2023-Julio",
          "2023-Agosto",
          "2023-Septiembre",
          "2023-Octubre",
          "2023-Noviembre",
          "2023-Diciembre",
          "2024-Enero",
          "2024-Febrero",
          "2024-Marzo",
          "2024-Abril",
          "2024-Mayo",
          "2024-Junio",
          "2024-Julio",
          "2024-Agosto",
          "2024-Septiembre",
          "2024-Octubre",
          "2024-Noviembre",
          "2024-Diciembre"
         ],
         "xaxis": "x",
         "y": [
          101,
          132,
          135,
          142,
          82,
          148,
          84,
          87,
          94,
          121,
          147,
          156,
          169,
          165,
          160,
          150,
          89,
          123,
          162,
          170,
          131,
          166,
          96,
          134
         ],
         "yaxis": "y2"
        },
        {
         "line": {
          "width": 2
         },
         "marker": {
          "size": 8,
          "symbol": "cross"
         },
         "mode": "lines+markers",
         "name": "NO2 NL, Cadereyta (4.9 km)",
         "type": "scatter",
         "x": [
          "2023-Enero",
          "2023-Febrero",
          "2023-Marzo",
          "2023-Abril",
          "2023-Mayo",
          "2023-Junio",
          "2023-Julio",
          "2023-Agosto",
          "2023-Septiembre",
          "2023-Octubre",
          "2023-Noviembre",
          "2023-Diciembre",
          "2024-Enero",
          "2024-Febrero",
          "2024-Marzo",
          "2024-Abril",
          "2024-Mayo",
          "2024-Junio",
          "2024-Julio",
          "2024-Agosto",
          "2024-Septiembre",
          "2024-Octubre",
          "2024-Noviembre",
          "2024-Diciembre"
         ],
         "xaxis": "x",
         "y": [
          0.024,
          0.023,
          0.019,
          0.018,
          0.018,
          0.015,
          0.01,
          0.014,
          0.018,
          0.021,
          0.022,
          0.025,
          0.021,
          0.025,
          0.017,
          0.015,
          0.014,
          0.014,
          0.012,
          0.014,
          0.02,
          0.021,
          0.023,
          0.022
         ],
         "yaxis": "y"
        },
        {
         "line": {
          "width": 2
         },
         "marker": {
          "size": 8,
          "symbol": "square"
         },
         "mode": "lines+markers",
         "name": "O3 NL, Cadereyta (4.9 km)",
         "type": "scatter",
         "x": [
          "2023-Enero",
          "2023-Febrero",
          "2023-Marzo",
          "2023-Abril",
          "2023-Mayo",
          "2023-Junio",
          "2023-Julio",
          "2023-Agosto",
          "2023-Septiembre",
          "2023-Octubre",
          "2023-Noviembre",
          "2023-Diciembre",
          "2024-Enero",
          "2024-Febrero",
          "2024-Marzo",
          "2024-Abril",
          "2024-Mayo",
          "2024-Junio",
          "2024-Julio",
          "2024-Agosto",
          "2024-Septiembre",
          "2024-Octubre",
          "2024-Noviembre",
          "2024-Diciembre"
         ],
         "xaxis": "x",
         "y": [
          0.046,
          0.044,
          0.044,
          0.036,
          0.041,
          0.047,
          0.039,
          0.046,
          0.052,
          0.044,
          0.036,
          0.029,
          0.039,
          0.05,
          0.043,
          0.036,
          0.036,
          0.043,
          0.043,
          0.044,
          0.046,
          0.048,
          0.046,
          0.042
         ],
         "yaxis": "y"
        },
        {
         "line": {
          "width": 2
         },
         "marker": {
          "size": 8,
          "symbol": "triangle-up"
         },
         "mode": "lines+markers",
         "name": "SO2 NL, Cadereyta (4.9 km)",
         "type": "scatter",
         "x": [
          "2023-Enero",
          "2023-Febrero",
          "2023-Marzo",
          "2023-Abril",
          "2023-Mayo",
          "2023-Junio",
          "2023-Julio",
          "2023-Agosto",
          "2023-Septiembre",
          "2023-Octubre",
          "2023-Noviembre",
          "2023-Diciembre",
          "2024-Enero",
          "2024-Febrero",
          "2024-Marzo",
          "2024-Abril",
          "2024-Mayo",
          "2024-Junio",
          "2024-Julio",
          "2024-Agosto",
          "2024-Septiembre",
          "2024-Octubre",
          "2024-Noviembre",
          "2024-Diciembre"
         ],
         "xaxis": "x",
         "y": [
          0.007,
          0.006,
          0.006,
          0.006,
          0.005,
          0.004,
          0.006,
          0.007,
          0.007,
          0.005,
          0.005,
          0.006,
          0.006,
          0.006,
          0.005,
          0.005,
          0.005,
          0.005,
          0.006,
          0.007,
          0.005,
          0.006,
          0.006,
          0.006
         ],
         "yaxis": "y"
        },
        {
         "line": {
          "width": 2
         },
         "marker": {
          "size": 8,
          "symbol": "cross"
         },
         "mode": "lines+markers",
         "name": "NO2 NL, Juarez (17.2 km)",
         "type": "scatter",
         "x": [
          "2023-Enero",
          "2023-Febrero",
          "2023-Marzo",
          "2023-Abril",
          "2023-Mayo",
          "2023-Junio",
          "2023-Julio",
          "2023-Agosto",
          "2023-Septiembre",
          "2023-Octubre",
          "2023-Noviembre",
          "2023-Diciembre",
          "2024-Enero",
          "2024-Febrero",
          "2024-Marzo",
          "2024-Abril",
          "2024-Mayo",
          "2024-Junio",
          "2024-Julio",
          "2024-Agosto",
          "2024-Septiembre",
          "2024-Octubre",
          "2024-Noviembre",
          "2024-Diciembre"
         ],
         "xaxis": "x",
         "y": [
          0.032,
          0.03,
          0.028,
          0.027,
          0.026,
          0.024,
          0.017,
          0.015,
          0.014,
          0.023,
          0.028,
          0.03,
          0.028,
          0.032,
          0.024,
          0.018,
          0.012,
          0.005,
          0.008,
          0.009,
          0.008,
          0.006,
          0.014,
          0.012
         ],
         "yaxis": "y"
        },
        {
         "line": {
          "width": 2
         },
         "marker": {
          "size": 8,
          "symbol": "square"
         },
         "mode": "lines+markers",
         "name": "O3 NL, Juarez (17.2 km)",
         "type": "scatter",
         "x": [
          "2023-Enero",
          "2023-Febrero",
          "2023-Marzo",
          "2023-Abril",
          "2023-Mayo",
          "2023-Junio",
          "2023-Julio",
          "2023-Agosto",
          "2023-Septiembre",
          "2023-Octubre",
          "2023-Noviembre",
          "2023-Diciembre",
          "2024-Enero",
          "2024-Febrero",
          "2024-Marzo",
          "2024-Abril",
          "2024-Mayo",
          "2024-Junio",
          "2024-Julio",
          "2024-Agosto",
          "2024-Septiembre",
          "2024-Octubre",
          "2024-Noviembre",
          "2024-Diciembre"
         ],
         "xaxis": "x",
         "y": [
          0.046,
          0.047,
          0.048,
          0.043,
          0.05,
          0.052,
          0.048,
          0.052,
          0.058,
          0.048,
          0.047,
          0.048,
          0.045,
          0.053,
          0.046,
          0.043,
          0.056,
          0.05,
          0.025,
          0.05,
          0.046,
          0.037,
          0.049,
          0.043
         ],
         "yaxis": "y"
        },
        {
         "line": {
          "width": 2
         },
         "marker": {
          "size": 8,
          "symbol": "triangle-up"
         },
         "mode": "lines+markers",
         "name": "SO2 NL, Juarez (17.2 km)",
         "type": "scatter",
         "x": [
          "2023-Enero",
          "2023-Febrero",
          "2023-Marzo",
          "2023-Abril",
          "2023-Mayo",
          "2023-Junio",
          "2023-Julio",
          "2023-Agosto",
          "2023-Septiembre",
          "2023-Octubre",
          "2023-Noviembre",
          "2023-Diciembre",
          "2024-Enero",
          "2024-Febrero",
          "2024-Marzo",
          "2024-Abril",
          "2024-Mayo",
          "2024-Junio",
          "2024-Julio",
          "2024-Agosto",
          "2024-Septiembre",
          "2024-Octubre",
          "2024-Noviembre",
          "2024-Diciembre"
         ],
         "xaxis": "x",
         "y": [
          0.006,
          0.006,
          0.005,
          0.005,
          0.005,
          0.005,
          0.006,
          0.006,
          0.006,
          0.005,
          0.005,
          0.005,
          0.005,
          0.006,
          0.005,
          0.005,
          0.004,
          0.004,
          0.004,
          0.005,
          0.003,
          0.006,
          0.006,
          0.006
         ],
         "yaxis": "y"
        },
        {
         "line": {
          "width": 2
         },
         "marker": {
          "size": 8,
          "symbol": "cross"
         },
         "mode": "lines+markers",
         "name": "NO2 NL, Universidad (40.0 km)",
         "type": "scatter",
         "x": [
          "2023-Enero",
          "2023-Febrero",
          "2023-Marzo",
          "2023-Abril",
          "2023-Mayo",
          "2023-Junio",
          "2023-Julio",
          "2023-Agosto",
          "2023-Septiembre",
          "2023-Octubre",
          "2023-Noviembre",
          "2023-Diciembre",
          "2024-Enero",
          "2024-Febrero",
          "2024-Marzo",
          "2024-Abril",
          "2024-Mayo",
          "2024-Junio",
          "2024-Julio",
          "2024-Agosto",
          "2024-Septiembre",
          "2024-Octubre",
          "2024-Noviembre",
          "2024-Diciembre"
         ],
         "xaxis": "x",
         "y": [
          0.046,
          0.044,
          0.041,
          0.037,
          0.036,
          0.03,
          0.023,
          0.025,
          0.029,
          0.036,
          0.038,
          0.042,
          0.039,
          0.045,
          0.034,
          0.026,
          0.027,
          0.03,
          0.028,
          0.032,
          0.042,
          0.046,
          0.047,
          0.048
         ],
         "yaxis": "y"
        },
        {
         "line": {
          "width": 2
         },
         "marker": {
          "size": 8,
          "symbol": "square"
         },
         "mode": "lines+markers",
         "name": "O3 NL, Universidad (40.0 km)",
         "type": "scatter",
         "x": [
          "2023-Enero",
          "2023-Febrero",
          "2023-Marzo",
          "2023-Abril",
          "2023-Mayo",
          "2023-Junio",
          "2023-Julio",
          "2023-Agosto",
          "2023-Septiembre",
          "2023-Octubre",
          "2023-Noviembre",
          "2023-Diciembre",
          "2024-Enero",
          "2024-Febrero",
          "2024-Marzo",
          "2024-Abril",
          "2024-Mayo",
          "2024-Junio",
          "2024-Julio",
          "2024-Agosto",
          "2024-Septiembre",
          "2024-Octubre",
          "2024-Noviembre",
          "2024-Diciembre"
         ],
         "xaxis": "x",
         "y": [
          0.043,
          0.045,
          0.046,
          0.041,
          0.051,
          0.054,
          0.055,
          0.054,
          0.057,
          0.044,
          0.038,
          0.038,
          0.038,
          0.051,
          0.046,
          0.039,
          0.042,
          0.04,
          0.049,
          0.053,
          0.041,
          0.041,
          0.044,
          0.034
         ],
         "yaxis": "y"
        },
        {
         "line": {
          "width": 2
         },
         "marker": {
          "size": 8,
          "symbol": "triangle-up"
         },
         "mode": "lines+markers",
         "name": "SO2 NL, Universidad (40.0 km)",
         "type": "scatter",
         "x": [
          "2023-Enero",
          "2023-Febrero",
          "2023-Marzo",
          "2023-Abril",
          "2023-Mayo",
          "2023-Junio",
          "2023-Julio",
          "2023-Agosto",
          "2023-Septiembre",
          "2023-Octubre",
          "2023-Noviembre",
          "2023-Diciembre",
          "2024-Enero",
          "2024-Febrero",
          "2024-Marzo",
          "2024-Abril",
          "2024-Mayo",
          "2024-Junio",
          "2024-Julio",
          "2024-Agosto",
          "2024-Septiembre",
          "2024-Octubre",
          "2024-Noviembre",
          "2024-Diciembre"
         ],
         "xaxis": "x",
         "y": [
          0.005,
          0.005,
          0.005,
          0.005,
          0.005,
          0.005,
          0.005,
          0.005,
          0.005,
          0.005,
          0.004,
          0.005,
          0.005,
          0.005,
          0.004,
          0.004,
          0.004,
          0.004,
          0.004,
          0.004,
          0.004,
          0.004,
          0.004,
          0.005
         ],
         "yaxis": "y"
        },
        {
         "line": {
          "color": "rgb(0,228,0)",
          "dash": "dot",
          "width": 2
         },
         "mode": "lines",
         "name": "Buena (NO2)",
         "showlegend": true,
         "type": "scatter",
         "visible": "legendonly",
         "x": [
          "2023-Enero",
          "2024-Diciembre"
         ],
         "y": [
          0.053,
          0.053
         ]
        },
        {
         "line": {
          "color": "rgb(255,255,0)",
          "dash": "dot",
          "width": 2
         },
         "mode": "lines",
         "name": "Aceptable (NO2)",
         "showlegend": true,
         "type": "scatter",
         "visible": "legendonly",
         "x": [
          "2023-Enero",
          "2024-Diciembre"
         ],
         "y": [
          0.106,
          0.106
         ]
        },
        {
         "line": {
          "color": "rgb(255,126,0)",
          "dash": "dot",
          "width": 2
         },
         "mode": "lines",
         "name": "Mala (NO2)",
         "showlegend": true,
         "type": "scatter",
         "visible": "legendonly",
         "x": [
          "2023-Enero",
          "2024-Diciembre"
         ],
         "y": [
          0.16,
          0.16
         ]
        },
        {
         "line": {
          "color": "rgb(255,0,0)",
          "dash": "dot",
          "width": 2
         },
         "mode": "lines",
         "name": "Muy mala (NO2)",
         "showlegend": true,
         "type": "scatter",
         "visible": "legendonly",
         "x": [
          "2023-Enero",
          "2024-Diciembre"
         ],
         "y": [
          0.213,
          0.213
         ]
        },
        {
         "line": {
          "color": "rgb(143,63,151)",
          "dash": "dot",
          "width": 2
         },
         "mode": "lines",
         "name": "Extremadamente mala (NO2)",
         "showlegend": true,
         "type": "scatter",
         "visible": "legendonly",
         "x": [
          "2023-Enero",
          "2024-Diciembre"
         ],
         "y": [
          null,
          null
         ]
        },
        {
         "line": {
          "color": "rgb(0,228,0)",
          "dash": "dot",
          "width": 2
         },
         "mode": "lines",
         "name": "Buena (O3)",
         "showlegend": true,
         "type": "scatter",
         "visible": "legendonly",
         "x": [
          "2023-Enero",
          "2024-Diciembre"
         ],
         "y": [
          0.058,
          0.058
         ]
        },
        {
         "line": {
          "color": "rgb(255,255,0)",
          "dash": "dot",
          "width": 2
         },
         "mode": "lines",
         "name": "Aceptable (O3)",
         "showlegend": true,
         "type": "scatter",
         "visible": "legendonly",
         "x": [
          "2023-Enero",
          "2024-Diciembre"
         ],
         "y": [
          0.09,
          0.09
         ]
        },
        {
         "line": {
          "color": "rgb(255,126,0)",
          "dash": "dot",
          "width": 2
         },
         "mode": "lines",
         "name": "Mala (O3)",
         "showlegend": true,
         "type": "scatter",
         "visible": "legendonly",
         "x": [
          "2023-Enero",
          "2024-Diciembre"
         ],
         "y": [
          0.135,
          0.135
         ]
        },
        {
         "line": {
          "color": "rgb(255,0,0)",
          "dash": "dot",
          "width": 2
         },
         "mode": "lines",
         "name": "Muy mala (O3)",
         "showlegend": true,
         "type": "scatter",
         "visible": "legendonly",
         "x": [
          "2023-Enero",
          "2024-Diciembre"
         ],
         "y": [
          0.175,
          0.175
         ]
        },
        {
         "line": {
          "color": "rgb(143,63,151)",
          "dash": "dot",
          "width": 2
         },
         "mode": "lines",
         "name": "Extremadamente mala (O3)",
         "showlegend": true,
         "type": "scatter",
         "visible": "legendonly",
         "x": [
          "2023-Enero",
          "2024-Diciembre"
         ],
         "y": [
          null,
          null
         ]
        },
        {
         "line": {
          "color": "rgb(0,228,0)",
          "dash": "dot",
          "width": 2
         },
         "mode": "lines",
         "name": "Buena (SO2)",
         "showlegend": true,
         "type": "scatter",
         "visible": "legendonly",
         "x": [
          "2023-Enero",
          "2024-Diciembre"
         ],
         "y": [
          0.035,
          0.035
         ]
        },
        {
         "line": {
          "color": "rgb(255,255,0)",
          "dash": "dot",
          "width": 2
         },
         "mode": "lines",
         "name": "Aceptable (SO2)",
         "showlegend": true,
         "type": "scatter",
         "visible": "legendonly",
         "x": [
          "2023-Enero",
          "2024-Diciembre"
         ],
         "y": [
          0.075,
          0.075
         ]
        },
        {
         "line": {
          "color": "rgb(255,126,0)",
          "dash": "dot",
          "width": 2
         },
         "mode": "lines",
         "name": "Mala (SO2)",
         "showlegend": true,
         "type": "scatter",
         "visible": "legendonly",
         "x": [
          "2023-Enero",
          "2024-Diciembre"
         ],
         "y": [
          0.185,
          0.185
         ]
        },
        {
         "line": {
          "color": "rgb(255,0,0)",
          "dash": "dot",
          "width": 2
         },
         "mode": "lines",
         "name": "Muy mala (SO2)",
         "showlegend": true,
         "type": "scatter",
         "visible": "legendonly",
         "x": [
          "2023-Enero",
          "2024-Diciembre"
         ],
         "y": [
          0.304,
          0.304
         ]
        },
        {
         "line": {
          "color": "rgb(143,63,151)",
          "dash": "dot",
          "width": 2
         },
         "mode": "lines",
         "name": "Extremadamente mala (SO2)",
         "showlegend": true,
         "type": "scatter",
         "visible": "legendonly",
         "x": [
          "2023-Enero",
          "2024-Diciembre"
         ],
         "y": [
          null,
          null
         ]
        }
       ],
       "layout": {
        "legend": {
         "x": 1,
         "y": 1
        },
        "template": {
         "data": {
          "bar": [
           {
            "error_x": {
             "color": "#2a3f5f"
            },
            "error_y": {
             "color": "#2a3f5f"
            },
            "marker": {
             "line": {
              "color": "white",
              "width": 0.5
             },
             "pattern": {
              "fillmode": "overlay",
              "size": 10,
              "solidity": 0.2
             }
            },
            "type": "bar"
           }
          ],
          "barpolar": [
           {
            "marker": {
             "line": {
              "color": "white",
              "width": 0.5
             },
             "pattern": {
              "fillmode": "overlay",
              "size": 10,
              "solidity": 0.2
             }
            },
            "type": "barpolar"
           }
          ],
          "carpet": [
           {
            "aaxis": {
             "endlinecolor": "#2a3f5f",
             "gridcolor": "#C8D4E3",
             "linecolor": "#C8D4E3",
             "minorgridcolor": "#C8D4E3",
             "startlinecolor": "#2a3f5f"
            },
            "baxis": {
             "endlinecolor": "#2a3f5f",
             "gridcolor": "#C8D4E3",
             "linecolor": "#C8D4E3",
             "minorgridcolor": "#C8D4E3",
             "startlinecolor": "#2a3f5f"
            },
            "type": "carpet"
           }
          ],
          "choropleth": [
           {
            "colorbar": {
             "outlinewidth": 0,
             "ticks": ""
            },
            "type": "choropleth"
           }
          ],
          "contour": [
           {
            "colorbar": {
             "outlinewidth": 0,
             "ticks": ""
            },
            "colorscale": [
             [
              0,
              "#0d0887"
             ],
             [
              0.1111111111111111,
              "#46039f"
             ],
             [
              0.2222222222222222,
              "#7201a8"
             ],
             [
              0.3333333333333333,
              "#9c179e"
             ],
             [
              0.4444444444444444,
              "#bd3786"
             ],
             [
              0.5555555555555556,
              "#d8576b"
             ],
             [
              0.6666666666666666,
              "#ed7953"
             ],
             [
              0.7777777777777778,
              "#fb9f3a"
             ],
             [
              0.8888888888888888,
              "#fdca26"
             ],
             [
              1,
              "#f0f921"
             ]
            ],
            "type": "contour"
           }
          ],
          "contourcarpet": [
           {
            "colorbar": {
             "outlinewidth": 0,
             "ticks": ""
            },
            "type": "contourcarpet"
           }
          ],
          "heatmap": [
           {
            "colorbar": {
             "outlinewidth": 0,
             "ticks": ""
            },
            "colorscale": [
             [
              0,
              "#0d0887"
             ],
             [
              0.1111111111111111,
              "#46039f"
             ],
             [
              0.2222222222222222,
              "#7201a8"
             ],
             [
              0.3333333333333333,
              "#9c179e"
             ],
             [
              0.4444444444444444,
              "#bd3786"
             ],
             [
              0.5555555555555556,
              "#d8576b"
             ],
             [
              0.6666666666666666,
              "#ed7953"
             ],
             [
              0.7777777777777778,
              "#fb9f3a"
             ],
             [
              0.8888888888888888,
              "#fdca26"
             ],
             [
              1,
              "#f0f921"
             ]
            ],
            "type": "heatmap"
           }
          ],
          "heatmapgl": [
           {
            "colorbar": {
             "outlinewidth": 0,
             "ticks": ""
            },
            "colorscale": [
             [
              0,
              "#0d0887"
             ],
             [
              0.1111111111111111,
              "#46039f"
             ],
             [
              0.2222222222222222,
              "#7201a8"
             ],
             [
              0.3333333333333333,
              "#9c179e"
             ],
             [
              0.4444444444444444,
              "#bd3786"
             ],
             [
              0.5555555555555556,
              "#d8576b"
             ],
             [
              0.6666666666666666,
              "#ed7953"
             ],
             [
              0.7777777777777778,
              "#fb9f3a"
             ],
             [
              0.8888888888888888,
              "#fdca26"
             ],
             [
              1,
              "#f0f921"
             ]
            ],
            "type": "heatmapgl"
           }
          ],
          "histogram": [
           {
            "marker": {
             "pattern": {
              "fillmode": "overlay",
              "size": 10,
              "solidity": 0.2
             }
            },
            "type": "histogram"
           }
          ],
          "histogram2d": [
           {
            "colorbar": {
             "outlinewidth": 0,
             "ticks": ""
            },
            "colorscale": [
             [
              0,
              "#0d0887"
             ],
             [
              0.1111111111111111,
              "#46039f"
             ],
             [
              0.2222222222222222,
              "#7201a8"
             ],
             [
              0.3333333333333333,
              "#9c179e"
             ],
             [
              0.4444444444444444,
              "#bd3786"
             ],
             [
              0.5555555555555556,
              "#d8576b"
             ],
             [
              0.6666666666666666,
              "#ed7953"
             ],
             [
              0.7777777777777778,
              "#fb9f3a"
             ],
             [
              0.8888888888888888,
              "#fdca26"
             ],
             [
              1,
              "#f0f921"
             ]
            ],
            "type": "histogram2d"
           }
          ],
          "histogram2dcontour": [
           {
            "colorbar": {
             "outlinewidth": 0,
             "ticks": ""
            },
            "colorscale": [
             [
              0,
              "#0d0887"
             ],
             [
              0.1111111111111111,
              "#46039f"
             ],
             [
              0.2222222222222222,
              "#7201a8"
             ],
             [
              0.3333333333333333,
              "#9c179e"
             ],
             [
              0.4444444444444444,
              "#bd3786"
             ],
             [
              0.5555555555555556,
              "#d8576b"
             ],
             [
              0.6666666666666666,
              "#ed7953"
             ],
             [
              0.7777777777777778,
              "#fb9f3a"
             ],
             [
              0.8888888888888888,
              "#fdca26"
             ],
             [
              1,
              "#f0f921"
             ]
            ],
            "type": "histogram2dcontour"
           }
          ],
          "mesh3d": [
           {
            "colorbar": {
             "outlinewidth": 0,
             "ticks": ""
            },
            "type": "mesh3d"
           }
          ],
          "parcoords": [
           {
            "line": {
             "colorbar": {
              "outlinewidth": 0,
              "ticks": ""
             }
            },
            "type": "parcoords"
           }
          ],
          "pie": [
           {
            "automargin": true,
            "type": "pie"
           }
          ],
          "scatter": [
           {
            "fillpattern": {
             "fillmode": "overlay",
             "size": 10,
             "solidity": 0.2
            },
            "type": "scatter"
           }
          ],
          "scatter3d": [
           {
            "line": {
             "colorbar": {
              "outlinewidth": 0,
              "ticks": ""
             }
            },
            "marker": {
             "colorbar": {
              "outlinewidth": 0,
              "ticks": ""
             }
            },
            "type": "scatter3d"
           }
          ],
          "scattercarpet": [
           {
            "marker": {
             "colorbar": {
              "outlinewidth": 0,
              "ticks": ""
             }
            },
            "type": "scattercarpet"
           }
          ],
          "scattergeo": [
           {
            "marker": {
             "colorbar": {
              "outlinewidth": 0,
              "ticks": ""
             }
            },
            "type": "scattergeo"
           }
          ],
          "scattergl": [
           {
            "marker": {
             "colorbar": {
              "outlinewidth": 0,
              "ticks": ""
             }
            },
            "type": "scattergl"
           }
          ],
          "scattermapbox": [
           {
            "marker": {
             "colorbar": {
              "outlinewidth": 0,
              "ticks": ""
             }
            },
            "type": "scattermapbox"
           }
          ],
          "scatterpolar": [
           {
            "marker": {
             "colorbar": {
              "outlinewidth": 0,
              "ticks": ""
             }
            },
            "type": "scatterpolar"
           }
          ],
          "scatterpolargl": [
           {
            "marker": {
             "colorbar": {
              "outlinewidth": 0,
              "ticks": ""
             }
            },
            "type": "scatterpolargl"
           }
          ],
          "scatterternary": [
           {
            "marker": {
             "colorbar": {
              "outlinewidth": 0,
              "ticks": ""
             }
            },
            "type": "scatterternary"
           }
          ],
          "surface": [
           {
            "colorbar": {
             "outlinewidth": 0,
             "ticks": ""
            },
            "colorscale": [
             [
              0,
              "#0d0887"
             ],
             [
              0.1111111111111111,
              "#46039f"
             ],
             [
              0.2222222222222222,
              "#7201a8"
             ],
             [
              0.3333333333333333,
              "#9c179e"
             ],
             [
              0.4444444444444444,
              "#bd3786"
             ],
             [
              0.5555555555555556,
              "#d8576b"
             ],
             [
              0.6666666666666666,
              "#ed7953"
             ],
             [
              0.7777777777777778,
              "#fb9f3a"
             ],
             [
              0.8888888888888888,
              "#fdca26"
             ],
             [
              1,
              "#f0f921"
             ]
            ],
            "type": "surface"
           }
          ],
          "table": [
           {
            "cells": {
             "fill": {
              "color": "#EBF0F8"
             },
             "line": {
              "color": "white"
             }
            },
            "header": {
             "fill": {
              "color": "#C8D4E3"
             },
             "line": {
              "color": "white"
             }
            },
            "type": "table"
           }
          ]
         },
         "layout": {
          "annotationdefaults": {
           "arrowcolor": "#2a3f5f",
           "arrowhead": 0,
           "arrowwidth": 1
          },
          "autotypenumbers": "strict",
          "coloraxis": {
           "colorbar": {
            "outlinewidth": 0,
            "ticks": ""
           }
          },
          "colorscale": {
           "diverging": [
            [
             0,
             "#8e0152"
            ],
            [
             0.1,
             "#c51b7d"
            ],
            [
             0.2,
             "#de77ae"
            ],
            [
             0.3,
             "#f1b6da"
            ],
            [
             0.4,
             "#fde0ef"
            ],
            [
             0.5,
             "#f7f7f7"
            ],
            [
             0.6,
             "#e6f5d0"
            ],
            [
             0.7,
             "#b8e186"
            ],
            [
             0.8,
             "#7fbc41"
            ],
            [
             0.9,
             "#4d9221"
            ],
            [
             1,
             "#276419"
            ]
           ],
           "sequential": [
            [
             0,
             "#0d0887"
            ],
            [
             0.1111111111111111,
             "#46039f"
            ],
            [
             0.2222222222222222,
             "#7201a8"
            ],
            [
             0.3333333333333333,
             "#9c179e"
            ],
            [
             0.4444444444444444,
             "#bd3786"
            ],
            [
             0.5555555555555556,
             "#d8576b"
            ],
            [
             0.6666666666666666,
             "#ed7953"
            ],
            [
             0.7777777777777778,
             "#fb9f3a"
            ],
            [
             0.8888888888888888,
             "#fdca26"
            ],
            [
             1,
             "#f0f921"
            ]
           ],
           "sequentialminus": [
            [
             0,
             "#0d0887"
            ],
            [
             0.1111111111111111,
             "#46039f"
            ],
            [
             0.2222222222222222,
             "#7201a8"
            ],
            [
             0.3333333333333333,
             "#9c179e"
            ],
            [
             0.4444444444444444,
             "#bd3786"
            ],
            [
             0.5555555555555556,
             "#d8576b"
            ],
            [
             0.6666666666666666,
             "#ed7953"
            ],
            [
             0.7777777777777778,
             "#fb9f3a"
            ],
            [
             0.8888888888888888,
             "#fdca26"
            ],
            [
             1,
             "#f0f921"
            ]
           ]
          },
          "colorway": [
           "#636efa",
           "#EF553B",
           "#00cc96",
           "#ab63fa",
           "#FFA15A",
           "#19d3f3",
           "#FF6692",
           "#B6E880",
           "#FF97FF",
           "#FECB52"
          ],
          "font": {
           "color": "#2a3f5f"
          },
          "geo": {
           "bgcolor": "white",
           "lakecolor": "white",
           "landcolor": "white",
           "showlakes": true,
           "showland": true,
           "subunitcolor": "#C8D4E3"
          },
          "hoverlabel": {
           "align": "left"
          },
          "hovermode": "closest",
          "mapbox": {
           "style": "light"
          },
          "paper_bgcolor": "white",
          "plot_bgcolor": "white",
          "polar": {
           "angularaxis": {
            "gridcolor": "#EBF0F8",
            "linecolor": "#EBF0F8",
            "ticks": ""
           },
           "bgcolor": "white",
           "radialaxis": {
            "gridcolor": "#EBF0F8",
            "linecolor": "#EBF0F8",
            "ticks": ""
           }
          },
          "scene": {
           "xaxis": {
            "backgroundcolor": "white",
            "gridcolor": "#DFE8F3",
            "gridwidth": 2,
            "linecolor": "#EBF0F8",
            "showbackground": true,
            "ticks": "",
            "zerolinecolor": "#EBF0F8"
           },
           "yaxis": {
            "backgroundcolor": "white",
            "gridcolor": "#DFE8F3",
            "gridwidth": 2,
            "linecolor": "#EBF0F8",
            "showbackground": true,
            "ticks": "",
            "zerolinecolor": "#EBF0F8"
           },
           "zaxis": {
            "backgroundcolor": "white",
            "gridcolor": "#DFE8F3",
            "gridwidth": 2,
            "linecolor": "#EBF0F8",
            "showbackground": true,
            "ticks": "",
            "zerolinecolor": "#EBF0F8"
           }
          },
          "shapedefaults": {
           "line": {
            "color": "#2a3f5f"
           }
          },
          "ternary": {
           "aaxis": {
            "gridcolor": "#DFE8F3",
            "linecolor": "#A2B1C6",
            "ticks": ""
           },
           "baxis": {
            "gridcolor": "#DFE8F3",
            "linecolor": "#A2B1C6",
            "ticks": ""
           },
           "bgcolor": "white",
           "caxis": {
            "gridcolor": "#DFE8F3",
            "linecolor": "#A2B1C6",
            "ticks": ""
           }
          },
          "title": {
           "x": 0.05
          },
          "xaxis": {
           "automargin": true,
           "gridcolor": "#EBF0F8",
           "linecolor": "#EBF0F8",
           "ticks": "",
           "title": {
            "standoff": 15
           },
           "zerolinecolor": "#EBF0F8",
           "zerolinewidth": 2
          },
          "yaxis": {
           "automargin": true,
           "gridcolor": "#EBF0F8",
           "linecolor": "#EBF0F8",
           "ticks": "",
           "title": {
            "standoff": 15
           },
           "zerolinecolor": "#EBF0F8",
           "zerolinewidth": 2
          }
         }
        },
        "title": {
         "text": "Red: Monterrey"
        },
        "xaxis": {
         "anchor": "y",
         "domain": [
          0,
          0.94
         ],
         "tickangle": -45,
         "title": {
          "text": "Fecha"
         }
        },
        "yaxis": {
         "anchor": "x",
         "domain": [
          0,
          1
         ],
         "title": {
          "text": "Promedio mensual concentración 24h [ppm]"
         }
        },
        "yaxis2": {
         "anchor": "x",
         "overlaying": "y",
         "side": "right",
         "title": {
          "text": "Promedio mensual [mbd]"
         }
        }
       }
      }
     },
     "metadata": {},
     "output_type": "display_data"
    }
   ],
   "source": [
    "import pickle as pkl\n",
    "import pandas as pd\n",
    "import plotly.graph_objects as go\n",
    "from plotly.subplots import make_subplots\n",
    "from scipy.stats import pearsonr\n",
    "\n",
    "# Traducción de meses\n",
    "meses_es = {\n",
    "    'January': 'Enero', 'February': 'Febrero', 'March': 'Marzo', 'April': 'Abril',\n",
    "    'May': 'Mayo', 'June': 'Junio', 'July': 'Julio', 'August': 'Agosto',\n",
    "    'September': 'Septiembre', 'October': 'Octubre', 'November': 'Noviembre', 'December': 'Diciembre'\n",
    "}\n",
    "\n",
    "# Coordenadas de estaciones con distancia en km\n",
    "estaciones_km = {\n",
    "    'NL, Cadereyta': 4.9,\n",
    "    'NL, Juarez': 17.2,\n",
    "    'NL, Universidad': 40.0\n",
    "}\n",
    "\n",
    "# Umbrales de calidad del aire\n",
    "umbrales = {\n",
    "    'NO2': [(0.053, 'Buena', 'rgb(0,228,0)'), (0.106, 'Aceptable', 'rgb(255,255,0)'), \n",
    "            (0.160, 'Mala', 'rgb(255,126,0)'), (0.213, 'Muy mala', 'rgb(255,0,0)'), \n",
    "            (float('inf'), 'Extremadamente mala', 'rgb(143,63,151)')],\n",
    "    'O3': [(0.058, 'Buena', 'rgb(0,228,0)'), (0.090, 'Aceptable', 'rgb(255,255,0)'), \n",
    "           (0.135, 'Mala', 'rgb(255,126,0)'), (0.175, 'Muy mala', 'rgb(255,0,0)'), \n",
    "           (float('inf'), 'Extremadamente mala', 'rgb(143,63,151)')],\n",
    "    'SO2': [(0.035, 'Buena', 'rgb(0,228,0)'), (0.075, 'Aceptable', 'rgb(255,255,0)'), \n",
    "            (0.185, 'Mala', 'rgb(255,126,0)'), (0.304, 'Muy mala', 'rgb(255,0,0)'), \n",
    "            (float('inf'), 'Extremadamente mala', 'rgb(143,63,151)')],\n",
    "    \n",
    "}\n",
    "\n",
    "# Función para cargar datos de NO2, O3 y SO2\n",
    "def cargar_datos(archivo_pkl, estacion):\n",
    "    with open(archivo_pkl, 'rb') as f:\n",
    "        data = pkl.load(f)\n",
    "    pm_NL = data.query(f'Estación == \"{estacion}\"')\n",
    "    m_pm_NL = pm_NL.groupby(pm_NL['Fecha'].dt.to_period(\"M\"))['Concentración por día'].mean().reset_index()\n",
    "    m_pm_NL.rename(columns={'Fecha_Dia': 'Fecha', 'Concentración por día': 'Concentración Promedio Mensual'}, inplace=True)\n",
    "    m_pm_NL['Concentración Promedio Mensual'] = m_pm_NL['Concentración Promedio Mensual'].round(3)\n",
    "    return m_pm_NL\n",
    "\n",
    "# Rango de datos\n",
    "iloc_inicio = 0\n",
    "iloc_fin = 24\n",
    "\n",
    "# Archivos de datos\n",
    "archivo_NO2 = 'data/IndicedeCalidad/data_NO2.pkl'\n",
    "archivo_O3 = 'data/IndicedeCalidad/data_O3.pkl'\n",
    "archivo_SO2 = 'data/IndicedeCalidad/data_SO2.pkl'\n",
    "estaciones = list(estaciones_km.keys())\n",
    "\n",
    "# Datos de producción de barriles\n",
    "pemex_NL = pd.DataFrame({\n",
    "    'Fecha': pd.date_range(start='2023-01', end='2025-01', freq='M').strftime('%Y-%B'),\n",
    "    'Miles de barriles mensuales': [101, 132, 135, 142, 82, 148, 84, 87, 94, 121, 147, 156,\n",
    "                                    169, 165, 160, 150, 89, 123, 162, 170, 131, 166, 96, 134]\n",
    "})\n",
    "\n",
    "# Reemplazar nombres de meses en inglés por español\n",
    "pemex_NL['Fecha'] = pemex_NL['Fecha'].replace(meses_es, regex=True)\n",
    "\n",
    "# # Reemplazar Period por timestamp para las fechas\n",
    "# pemex_NL['Fecha'] = pd.to_datetime(pemex_NL['Fecha'].to_list())\n",
    "\n",
    "\n",
    "\n",
    "# Crear gráfico con doble eje Y\n",
    "fig = make_subplots(specs=[[{\"secondary_y\": True}]])\n",
    "\n",
    "# Agregar producción de barriles al eje derecho\n",
    "fig.add_trace(go.Scatter(x=pemex_NL['Fecha'][iloc_inicio:iloc_fin], \n",
    "                         y=pemex_NL['Miles de barriles mensuales'][iloc_inicio:iloc_fin], \n",
    "                         mode='lines+markers', \n",
    "                         name='Refinería Ing. Héctor R. Lara Sosa', \n",
    "                         line=dict(color='black', width=2), \n",
    "                         marker=dict(symbol='circle', size=6)), \n",
    "              secondary_y=True)\n",
    "# Agregar datos de NO2, O3 y SO2 por estación\n",
    "for estacion in estaciones:\n",
    "    m_NO2_NL = cargar_datos(archivo_NO2, estacion)\n",
    "    m_O3_NL = cargar_datos(archivo_O3, estacion)\n",
    "    m_SO2_NL = cargar_datos(archivo_SO2, estacion)\n",
    "    \n",
    "        # Si las fechas son Period, convertirlas a Timestamp usando to_timestamp()\n",
    "    if isinstance(m_NO2_NL['Fecha'].iloc[0], pd.Period):\n",
    "        m_NO2_NL['Fecha'] = m_NO2_NL['Fecha'].apply(lambda x: x.to_timestamp())\n",
    "    if isinstance(m_O3_NL['Fecha'].iloc[0], pd.Period):\n",
    "        m_O3_NL['Fecha'] = m_O3_NL['Fecha'].apply(lambda x: x.to_timestamp())\n",
    "    if isinstance(m_SO2_NL['Fecha'].iloc[0], pd.Period):\n",
    "        m_SO2_NL['Fecha'] = m_SO2_NL['Fecha'].apply(lambda x: x.to_timestamp())\n",
    "\n",
    "    # Ahora las fechas deberían estar en formato datetime\n",
    "    m_NO2_NL['Fecha'] = pd.to_datetime(m_NO2_NL['Fecha'])\n",
    "    m_O3_NL['Fecha'] = pd.to_datetime(m_O3_NL['Fecha'])\n",
    "    m_SO2_NL['Fecha'] = pd.to_datetime(m_SO2_NL['Fecha'])\n",
    "    \n",
    "    \n",
    "    barriles = pemex_NL['Miles de barriles mensuales'].iloc[iloc_inicio:iloc_fin]\n",
    "    NO2 = m_NO2_NL['Concentración Promedio Mensual'].iloc[iloc_inicio:iloc_fin]\n",
    "    O3 = m_O3_NL['Concentración Promedio Mensual'].iloc[iloc_inicio:iloc_fin]\n",
    "    SO2 = m_SO2_NL['Concentración Promedio Mensual'].iloc[iloc_inicio:iloc_fin]\n",
    "    \n",
    "    # Cálculo de correlación\n",
    "    corr_NO2, _ = pearsonr(barriles.dropna(), NO2.dropna())\n",
    "    corr_O3, _ = pearsonr(barriles.dropna(), O3.dropna())\n",
    "    corr_SO2, _ = pearsonr(barriles.dropna(), SO2.dropna())\n",
    "\n",
    "    print(f'[{estacion} - {estaciones_km[estacion]} km] NO2 - Correlación con barriles: {corr_NO2:.2f}')\n",
    "    print(f'[{estacion} - {estaciones_km[estacion]} km] O3 - Correlación con barriles: {corr_O3:.2f}')\n",
    "    print(f'[{estacion} - {estaciones_km[estacion]} km] SO2 - Correlación con barriles: {corr_SO2:.2f}')\n",
    "    \n",
    "    # Agregar trazas de calidad del aire\n",
    "    fig.add_trace(go.Scatter(x=pemex_NL['Fecha'][iloc_inicio:iloc_fin], \n",
    "                             y=NO2, \n",
    "                             mode='lines+markers', \n",
    "                             name=f'NO2 {estacion} ({estaciones_km[estacion]} km)', \n",
    "                             line=dict(width=2), \n",
    "                             marker=dict(size=8, symbol = \"cross\") ),\n",
    "                            secondary_y=False)\n",
    "    \n",
    "    fig.add_trace(go.Scatter(x=pemex_NL['Fecha'][iloc_inicio:iloc_fin], \n",
    "                             y=O3, \n",
    "                             mode='lines+markers', \n",
    "                             name=f'O3 {estacion} ({estaciones_km[estacion]} km)', \n",
    "                             line=dict(width=2), marker = dict(size=8, symbol=\"square\")),\n",
    "                  \n",
    "                  secondary_y=False)\n",
    "    \n",
    "    fig.add_trace(go.Scatter(x=pemex_NL['Fecha'][iloc_inicio:iloc_fin], \n",
    "                             y=SO2, \n",
    "                             mode='lines+markers', \n",
    "                             name=f'SO2 {estacion} ({estaciones_km[estacion]} km)', \n",
    "                             line=dict( width=2),  marker = dict(size=8, symbol=\"triangle-up\")),\n",
    "                 \n",
    "                  secondary_y=False)\n",
    "\n",
    "\n",
    "# Agregar líneas horizontales de umbrales\n",
    "for contaminante, niveles in umbrales.items():\n",
    "    if contaminante == 'PM2.5':\n",
    "        estilo = \"solid\"\n",
    "    else:\n",
    "        estilo = 'dot'\n",
    "    for valor, label, color in niveles:\n",
    "     \n",
    "        fig.add_trace(\n",
    "            go.Scatter(\n",
    "                x=[pemex_NL['Fecha'].iloc[iloc_inicio], pemex_NL['Fecha'].iloc[iloc_fin-1]],\n",
    "                y=[valor, valor],\n",
    "                mode='lines',\n",
    "                line=dict(color=color, width=2, dash=estilo),\n",
    "                name=f'{label} ({contaminante})',\n",
    "                showlegend=True,\n",
    "                visible='legendonly'\n",
    "            )\n",
    "        )\n",
    "        \n",
    "        # fig.add_annotation(\n",
    "        #     x=pemex_NL['Fecha'].iloc[0], y=valor,\n",
    "        #     text=f\"{label} ({contaminante})\",\n",
    "        #     showarrow=False,\n",
    "        #     font=dict(color='black', size=7),\n",
    "        #     xanchor=\"left\",\n",
    "        #     yanchor= 'top'\n",
    "        # )\n",
    "\n",
    "# Configurar ejes\n",
    "fig.update_layout(\n",
    "    title=\"Red: Monterrey\",\n",
    "    xaxis_title=\"Fecha\",\n",
    "    yaxis_title=r'Promedio mensual concentración 24h [ppm]',\n",
    "    yaxis2_title=\"Promedio mensual [mbd]\",\n",
    "    legend=dict(x=1, y=1),\n",
    "    template=\"plotly_white\"\n",
    ")\n",
    "fig.update_layout(xaxis=dict(tickangle=-45))  # Rotar etiquetas del eje X 45 grados\n",
    "fig.write_html('Barriles_vs_NOPM.html')\n",
    "\n",
    "# Mostrar gráfico\n",
    "fig.show()\n"
   ]
  }
 ],
 "metadata": {
  "kernelspec": {
   "display_name": "base",
   "language": "python",
   "name": "python3"
  },
  "language_info": {
   "codemirror_mode": {
    "name": "ipython",
    "version": 3
   },
   "file_extension": ".py",
   "mimetype": "text/x-python",
   "name": "python",
   "nbconvert_exporter": "python",
   "pygments_lexer": "ipython3",
   "version": "3.11.5"
  }
 },
 "nbformat": 4,
 "nbformat_minor": 2
}
